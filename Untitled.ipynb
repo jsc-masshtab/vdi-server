{
 "cells": [
  {
   "cell_type": "code",
   "execution_count": 3,
   "metadata": {},
   "outputs": [],
   "source": [
    "from vdi.tasks import base"
   ]
  },
  {
   "cell_type": "code",
   "execution_count": 8,
   "metadata": {},
   "outputs": [
    {
     "name": "stdout",
     "output_type": "stream",
     "text": [
      ".\n"
     ]
    }
   ],
   "source": [
    "import asyncio\n",
    "\n",
    "async def af():\n",
    "    \n",
    "    await asyncio.sleep(1)\n",
    "\n",
    "async def g(r):\n",
    "    await asyncio.sleep(0.5)\n",
    "    print('.')\n",
    "    \n",
    "# as_func(coro)\n",
    "    \n",
    "t = asyncio.create_task(af())\n",
    "t.add_done_callback(lambda r: asyncio.create_task(g(r)))"
   ]
  },
  {
   "cell_type": "code",
   "execution_count": 2,
   "metadata": {},
   "outputs": [
    {
     "name": "stdout",
     "output_type": "stream",
     "text": [
      "."
     ]
    },
    {
     "data": {
      "text/plain": [
       "{'next': None,\n",
       " 'count': 1,\n",
       " 'previous': None,\n",
       " 'results': [{'status': 'ACTIVE',\n",
       "   'node': {'id': '6868d23c-c9d2-4ed9-8192-b48498d1d2a3',\n",
       "    'verbose_name': 'n1'},\n",
       "   'memory_count': 1024,\n",
       "   'user_power_state': 1,\n",
       "   'verbose_name': 'kvim2',\n",
       "   'id': 'ff29ef61-a5fa-4442-9457-938632411ddf',\n",
       "   'luns_count': 0,\n",
       "   'tags': [],\n",
       "   'vinterfaces_count': 0,\n",
       "   'hints': 0,\n",
       "   'vdisks_count': 0,\n",
       "   'service_module': False,\n",
       "   'cpu_count': 1}]}"
      ]
     },
     "execution_count": 2,
     "metadata": {},
     "output_type": "execute_result"
    }
   ],
   "source": [
    "await vm.CheckDomain()"
   ]
  },
  {
   "cell_type": "code",
   "execution_count": 3,
   "metadata": {},
   "outputs": [],
   "source": [
    "ex"
   ]
  },
  {
   "cell_type": "code",
   "execution_count": 19,
   "metadata": {},
   "outputs": [
    {
     "data": {
      "text/plain": [
       "{'f2ad6bd4-f1a0-4cab-9e98-0ecd60ea75fc': 'file',\n",
       " '2f0536af-7349-49d3-93b2-1d4ef04a0d94': 'vdisk',\n",
       " '1f2324fb-5c2a-4721-910c-aa4010c4c642': 'datapool'}"
      ]
     },
     "execution_count": 19,
     "metadata": {},
     "output_type": "execute_result"
    }
   ],
   "source": [
    "events = d['_task']['entities']\n",
    "events"
   ]
  },
  {
   "cell_type": "code",
   "execution_count": null,
   "metadata": {},
   "outputs": [],
   "source": []
  }
 ],
 "metadata": {
  "kernelspec": {
   "display_name": "Python 3",
   "language": "python",
   "name": "python3"
  },
  "language_info": {
   "codemirror_mode": {
    "name": "ipython",
    "version": 3
   },
   "file_extension": ".py",
   "mimetype": "text/x-python",
   "name": "python",
   "nbconvert_exporter": "python",
   "pygments_lexer": "ipython3",
   "version": "3.7.2"
  }
 },
 "nbformat": 4,
 "nbformat_minor": 2
}
