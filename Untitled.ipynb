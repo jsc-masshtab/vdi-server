{
 "cells": [
  {
   "cell_type": "code",
   "execution_count": 1,
   "metadata": {},
   "outputs": [],
   "source": [
    "from g_tasks import g\n",
    "\n",
    "class request:\n",
    "    query_params = {\n",
    "        'vm_type': 'disco',\n",
    "        'vm_name': 'kvim',\n",
    "    }\n",
    "\n",
    "g.set_attr('request', request)"
   ]
  },
  {
   "cell_type": "code",
   "execution_count": 2,
   "metadata": {},
   "outputs": [],
   "source": [
    "from vdi.tasks import vm"
   ]
  },
  {
   "cell_type": "code",
   "execution_count": 3,
   "metadata": {},
   "outputs": [
    {
     "data": {
      "text/plain": [
       "HTTPResponse(_body=None,_error_is_response_code=False,buffer=<_io.BytesIO object at 0x7fef884f27d8>,code=200,effective_url='http://192.168.20.120/api/domains/',error=None,headers=<tornado.httputil.HTTPHeaders object at 0x7fef884a8390>,reason='OK',request=<tornado.httpclient.HTTPRequest object at 0x7fef8852fe48>,request_time=0.33867502212524414,start_time=1549905075.0253327,time_info={})"
      ]
     },
     "execution_count": 3,
     "metadata": {},
     "output_type": "execute_result"
    }
   ],
   "source": [
    "await vm.CreateDomain()"
   ]
  },
  {
   "cell_type": "raw",
   "metadata": {},
   "source": []
  }
 ],
 "metadata": {
  "kernelspec": {
   "display_name": "Python 3",
   "language": "python",
   "name": "python3"
  },
  "language_info": {
   "codemirror_mode": {
    "name": "ipython",
    "version": 3
   },
   "file_extension": ".py",
   "mimetype": "text/x-python",
   "name": "python",
   "nbconvert_exporter": "python",
   "pygments_lexer": "ipython3",
   "version": "3.7.2"
  }
 },
 "nbformat": 4,
 "nbformat_minor": 2
}
