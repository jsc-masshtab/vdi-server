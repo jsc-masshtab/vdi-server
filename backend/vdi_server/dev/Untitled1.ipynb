{
 "cells": [
  {
   "cell_type": "code",
   "execution_count": 1,
   "metadata": {},
   "outputs": [
    {
     "name": "stdout",
     "output_type": "stream",
     "text": [
      "/home/pwtail/.local/share/virtualenvs/vdi_server-wDwdAcQD/bin/python\n"
     ]
    }
   ],
   "source": [
    "!which python"
   ]
  },
  {
   "cell_type": "code",
   "execution_count": 2,
   "metadata": {},
   "outputs": [
    {
     "name": "stdout",
     "output_type": "stream",
     "text": [
      ".qcow2 image is downloaded.\n",
      "Node 192.168.20.121 is added.\n",
      "File upload finished.\n"
     ]
    }
   ],
   "source": [
    "!python -m vdi.prepare"
   ]
  },
  {
   "cell_type": "code",
   "execution_count": 1,
   "metadata": {},
   "outputs": [],
   "source": [
    "from vdi.graphql import resources"
   ]
  },
  {
   "cell_type": "code",
   "execution_count": 2,
   "metadata": {},
   "outputs": [
    {
     "data": {
      "text/plain": [
       "<ObjectTypeOptions name='DatapoolType'>"
      ]
     },
     "execution_count": 2,
     "metadata": {},
     "output_type": "execute_result"
    }
   ],
   "source": [
    "resources.DatapoolType._meta"
   ]
  },
  {
   "cell_type": "code",
   "execution_count": 3,
   "metadata": {},
   "outputs": [
    {
     "data": {
      "text/plain": [
       "OrderedDict([('id', <graphene.types.field.Field at 0x7f77ace4cc88>),\n",
       "             ('used_space', <graphene.types.field.Field at 0x7f77ace4cd30>),\n",
       "             ('free_space', <graphene.types.field.Field at 0x7f77ace4cd68>),\n",
       "             ('size', <graphene.types.field.Field at 0x7f77ace4cda0>),\n",
       "             ('status', <graphene.types.field.Field at 0x7f77ace4cdd8>),\n",
       "             ('type', <graphene.types.field.Field at 0x7f77ace4ce10>),\n",
       "             ('vdisk_count', <graphene.types.field.Field at 0x7f77ace4ce48>),\n",
       "             ('tags', <graphene.types.field.Field at 0x7f77ace4ce80>),\n",
       "             ('hints', <graphene.types.field.Field at 0x7f77ace4ceb8>),\n",
       "             ('file_count', <graphene.types.field.Field at 0x7f77ace4cef0>),\n",
       "             ('iso_count', <graphene.types.field.Field at 0x7f77ace4cf28>),\n",
       "             ('nodes_connected',\n",
       "              <graphene.types.field.Field at 0x7f77ace4cf60>),\n",
       "             ('verbose_name', <graphene.types.field.Field at 0x7f77ace4cf98>)])"
      ]
     },
     "execution_count": 3,
     "metadata": {},
     "output_type": "execute_result"
    }
   ],
   "source": [
    "_.fields"
   ]
  },
  {
   "cell_type": "code",
   "execution_count": 4,
   "metadata": {},
   "outputs": [
    {
     "data": {
      "text/plain": [
       "odict_keys(['id', 'used_space', 'free_space', 'size', 'status', 'type', 'vdisk_count', 'tags', 'hints', 'file_count', 'iso_count', 'nodes_connected', 'verbose_name'])"
      ]
     },
     "execution_count": 4,
     "metadata": {},
     "output_type": "execute_result"
    }
   ],
   "source": [
    "_.keys()"
   ]
  },
  {
   "cell_type": "code",
   "execution_count": null,
   "metadata": {},
   "outputs": [],
   "source": []
  }
 ],
 "metadata": {
  "kernelspec": {
   "display_name": "Python 3",
   "language": "python",
   "name": "python3"
  },
  "language_info": {
   "codemirror_mode": {
    "name": "ipython",
    "version": 3
   },
   "file_extension": ".py",
   "mimetype": "text/x-python",
   "name": "python",
   "nbconvert_exporter": "python",
   "pygments_lexer": "ipython3",
   "version": "3.7.3"
  }
 },
 "nbformat": 4,
 "nbformat_minor": 2
}
