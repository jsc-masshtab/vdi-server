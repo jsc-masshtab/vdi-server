{
 "cells": [
  {
   "cell_type": "code",
   "execution_count": 1,
   "metadata": {},
   "outputs": [],
   "source": [
    "from vdi.tasks.vm import CopyDomainDebug, Token\n",
    "from vdi.tasks.client import HttpClient"
   ]
  },
  {
   "cell_type": "code",
   "execution_count": 2,
   "metadata": {},
   "outputs": [],
   "source": [
    "domain_id = '647c175b-2cb8-47f8-a89c-1b5608982dbb'\n",
    "pa = {'controller_ip': '192.168.20.120', 'domain_id': domain_id}"
   ]
  },
  {
   "cell_type": "code",
   "execution_count": 3,
   "metadata": {},
   "outputs": [],
   "source": [
    "obj = CopyDomainDebug(**pa)\n",
    "# await obj"
   ]
  },
  {
   "cell_type": "code",
   "execution_count": 4,
   "metadata": {},
   "outputs": [
    {
     "data": {
      "text/plain": [
       "'4790c055-4c93-4f7c-8a8f-7ee87782e2b1'"
      ]
     },
     "execution_count": 4,
     "metadata": {},
     "output_type": "execute_result"
    }
   ],
   "source": [
    "await obj.get_datapool_id()"
   ]
  },
  {
   "cell_type": "code",
   "execution_count": 5,
   "metadata": {},
   "outputs": [
    {
     "name": "stdout",
     "output_type": "stream",
     "text": [
      ".\n",
      ".\n",
      ".\n",
      ".\n"
     ]
    }
   ],
   "source": [
    "await obj"
   ]
  },
  {
   "cell_type": "code",
   "execution_count": null,
   "metadata": {},
   "outputs": [
    {
     "name": "stdout",
     "output_type": "stream",
     "text": [
      "> \u001b[0;32m/home/pwtail/projects/vdiserver/backend/vdi_server/vdi/tasks/vm.py\u001b[0m(219)\u001b[0;36mis_done\u001b[0;34m()\u001b[0m\n",
      "\u001b[0;32m    217 \u001b[0;31m            \u001b[0;32mif\u001b[0m \u001b[0mobj\u001b[0m\u001b[0;34m[\u001b[0m\u001b[0;34m'status'\u001b[0m\u001b[0;34m]\u001b[0m \u001b[0;34m==\u001b[0m \u001b[0;34m'SUCCESS'\u001b[0m\u001b[0;34m:\u001b[0m\u001b[0;34m\u001b[0m\u001b[0;34m\u001b[0m\u001b[0m\n",
      "\u001b[0m\u001b[0;32m    218 \u001b[0;31m                \u001b[0mentities\u001b[0m \u001b[0;34m=\u001b[0m \u001b[0;34m{\u001b[0m\u001b[0mv\u001b[0m\u001b[0;34m:\u001b[0m \u001b[0mk\u001b[0m \u001b[0;32mfor\u001b[0m \u001b[0mk\u001b[0m\u001b[0;34m,\u001b[0m \u001b[0mv\u001b[0m \u001b[0;32min\u001b[0m \u001b[0mobj\u001b[0m\u001b[0;34m[\u001b[0m\u001b[0;34m'entities'\u001b[0m\u001b[0;34m]\u001b[0m\u001b[0;34m.\u001b[0m\u001b[0mitems\u001b[0m\u001b[0;34m(\u001b[0m\u001b[0;34m)\u001b[0m\u001b[0;34m}\u001b[0m\u001b[0;34m\u001b[0m\u001b[0;34m\u001b[0m\u001b[0m\n",
      "\u001b[0m\u001b[0;32m--> 219 \u001b[0;31m                \u001b[0mself\u001b[0m\u001b[0;34m.\u001b[0m\u001b[0mdomain_id\u001b[0m \u001b[0;34m=\u001b[0m \u001b[0mentities\u001b[0m\u001b[0;34m[\u001b[0m\u001b[0;34m'domain'\u001b[0m\u001b[0;34m]\u001b[0m\u001b[0;34m\u001b[0m\u001b[0;34m\u001b[0m\u001b[0m\n",
      "\u001b[0m\u001b[0;32m    220 \u001b[0;31m                \u001b[0;32mreturn\u001b[0m \u001b[0;32mTrue\u001b[0m\u001b[0;34m\u001b[0m\u001b[0;34m\u001b[0m\u001b[0m\n",
      "\u001b[0m\u001b[0;32m    221 \u001b[0;31m\u001b[0;34m\u001b[0m\u001b[0m\n",
      "\u001b[0m\n"
     ]
    },
    {
     "name": "stdin",
     "output_type": "stream",
     "text": [
      "ipdb>  obj\n"
     ]
    },
    {
     "name": "stdout",
     "output_type": "stream",
     "text": [
      "{'name': 'Клонирование виртуальной машины wdwd-ea0.', 'progress': 100, 'error_message': '', 'is_multitask': True, 'nodes_list': [], 'is_cancellable': False, 'created': '2019-05-07T12:37:46.130629Z', 'finished_time': '2019-05-07T12:37:55.185184Z', 'parent': None, 'user': {'username': 'admin', 'id': 1}, 'executed': '9.054555', 'status': 'SUCCESS', 'entities': {'96ec6c66-41b4-44e3-a1cb-f8a642ab6eb7': 'node'}, 'id': '2b5cc464-ab32-4a68-8156-8d8db88c8587', 'nodes_user_responses': []}\n"
     ]
    }
   ],
   "source": [
    "debug"
   ]
  },
  {
   "cell_type": "code",
   "execution_count": 2,
   "metadata": {},
   "outputs": [
    {
     "data": {
      "text/plain": [
       "'SUCCESS'"
      ]
     },
     "execution_count": 2,
     "metadata": {},
     "output_type": "execute_result"
    }
   ],
   "source": [
    "_['object']['status']"
   ]
  },
  {
   "cell_type": "code",
   "execution_count": 22,
   "metadata": {},
   "outputs": [
    {
     "data": {
      "text/plain": [
       "{'node_id': '61fc11c2-104c-4f34-9fe2-f4e13859cfac',\n",
       " 'verbose_name': 've2',\n",
       " 'datapool_id': ()}"
      ]
     },
     "execution_count": 22,
     "metadata": {},
     "output_type": "execute_result"
    }
   ],
   "source": [
    "await self.get_params()"
   ]
  },
  {
   "cell_type": "code",
   "execution_count": 1,
   "metadata": {},
   "outputs": [
    {
     "data": {
      "text/plain": [
       "b'{\"errors\": {\"verbose_name\": [\"\\\\\\\\u041f\\\\\\\\u043e\\\\\\\\u043b\\\\\\\\u0435 \\\\\\\\u0434\\\\\\\\u043e\\\\\\\\u043b\\\\\\\\u0436\\\\\\\\u043d\\\\\\\\u043e \\\\\\\\u0431\\\\\\\\u044b\\\\\\\\u0442\\\\\\\\u044c \\\\\\\\u0443\\\\\\\\u043d\\\\\\\\u0438\\\\\\\\u043a\\\\\\\\u0430\\\\\\\\u043b\\\\\\\\u044c\\\\\\\\u043d\\\\\\\\u044b\\\\\\\\u043c.\"]}}'"
      ]
     },
     "execution_count": 1,
     "metadata": {},
     "output_type": "execute_result"
    }
   ],
   "source": [
    "b'{\\\"errors\\\": {\\\"verbose_name\\\": [\\\"\\\\\\\\u041f\\\\\\\\u043e\\\\\\\\u043b\\\\\\\\u0435 \\\\\\\\u0434\\\\\\\\u043e\\\\\\\\u043b\\\\\\\\u0436\\\\\\\\u043d\\\\\\\\u043e \\\\\\\\u0431\\\\\\\\u044b\\\\\\\\u0442\\\\\\\\u044c \\\\\\\\u0443\\\\\\\\u043d\\\\\\\\u0438\\\\\\\\u043a\\\\\\\\u0430\\\\\\\\u043b\\\\\\\\u044c\\\\\\\\u043d\\\\\\\\u044b\\\\\\\\u043c.\\\"]}}'"
   ]
  },
  {
   "cell_type": "code",
   "execution_count": 2,
   "metadata": {},
   "outputs": [
    {
     "data": {
      "text/plain": [
       "{'errors': {'verbose_name': ['\\\\u041f\\\\u043e\\\\u043b\\\\u0435 \\\\u0434\\\\u043e\\\\u043b\\\\u0436\\\\u043d\\\\u043e \\\\u0431\\\\u044b\\\\u0442\\\\u044c \\\\u0443\\\\u043d\\\\u0438\\\\u043a\\\\u0430\\\\u043b\\\\u044c\\\\u043d\\\\u044b\\\\u043c.']}}"
      ]
     },
     "execution_count": 2,
     "metadata": {},
     "output_type": "execute_result"
    }
   ],
   "source": [
    "eval(_)"
   ]
  },
  {
   "cell_type": "code",
   "execution_count": 3,
   "metadata": {},
   "outputs": [
    {
     "data": {
      "text/plain": [
       "['\\\\u041f\\\\u043e\\\\u043b\\\\u0435 \\\\u0434\\\\u043e\\\\u043b\\\\u0436\\\\u043d\\\\u043e \\\\u0431\\\\u044b\\\\u0442\\\\u044c \\\\u0443\\\\u043d\\\\u0438\\\\u043a\\\\u0430\\\\u043b\\\\u044c\\\\u043d\\\\u044b\\\\u043c.']"
      ]
     },
     "execution_count": 3,
     "metadata": {},
     "output_type": "execute_result"
    }
   ],
   "source": [
    "_['errors']['verbose_name']"
   ]
  },
  {
   "cell_type": "code",
   "execution_count": 4,
   "metadata": {},
   "outputs": [
    {
     "data": {
      "text/plain": [
       "'\\\\u041f\\\\u043e\\\\u043b\\\\u0435 \\\\u0434\\\\u043e\\\\u043b\\\\u0436\\\\u043d\\\\u043e \\\\u0431\\\\u044b\\\\u0442\\\\u044c \\\\u0443\\\\u043d\\\\u0438\\\\u043a\\\\u0430\\\\u043b\\\\u044c\\\\u043d\\\\u044b\\\\u043c.'"
      ]
     },
     "execution_count": 4,
     "metadata": {},
     "output_type": "execute_result"
    }
   ],
   "source": [
    "_[0]"
   ]
  },
  {
   "cell_type": "code",
   "execution_count": 9,
   "metadata": {},
   "outputs": [
    {
     "data": {
      "text/plain": [
       "b'\\\\u041f\\\\u043e\\\\u043b\\\\u0435 \\\\u0434\\\\u043e\\\\u043b\\\\u0436\\\\u043d\\\\u043e \\\\u0431\\\\u044b\\\\u0442\\\\u044c \\\\u0443\\\\u043d\\\\u0438\\\\u043a\\\\u0430\\\\u043b\\\\u044c\\\\u043d\\\\u044b\\\\u043c.'"
      ]
     },
     "execution_count": 9,
     "metadata": {},
     "output_type": "execute_result"
    }
   ],
   "source": [
    "_4.encode('utf-8')"
   ]
  },
  {
   "cell_type": "code",
   "execution_count": 11,
   "metadata": {},
   "outputs": [
    {
     "data": {
      "text/plain": [
       "'\\\\u041f\\\\u043e\\\\u043b\\\\u0435 \\\\u0434\\\\u043e\\\\u043b\\\\u0436\\\\u043d\\\\u043e \\\\u0431\\\\u044b\\\\u0442\\\\u044c \\\\u0443\\\\u043d\\\\u0438\\\\u043a\\\\u0430\\\\u043b\\\\u044c\\\\u043d\\\\u044b\\\\u043c.'"
      ]
     },
     "execution_count": 11,
     "metadata": {},
     "output_type": "execute_result"
    }
   ],
   "source": [
    "_9.decode()"
   ]
  },
  {
   "cell_type": "code",
   "execution_count": null,
   "metadata": {},
   "outputs": [],
   "source": []
  }
 ],
 "metadata": {
  "kernelspec": {
   "display_name": "Python 3",
   "language": "python",
   "name": "python3"
  },
  "language_info": {
   "codemirror_mode": {
    "name": "ipython",
    "version": 3
   },
   "file_extension": ".py",
   "mimetype": "text/x-python",
   "name": "python",
   "nbconvert_exporter": "python",
   "pygments_lexer": "ipython3",
   "version": "3.7.3"
  }
 },
 "nbformat": 4,
 "nbformat_minor": 2
}
