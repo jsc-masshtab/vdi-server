{
 "cells": [
  {
   "cell_type": "code",
   "execution_count": 1,
   "metadata": {},
   "outputs": [],
   "source": [
    "from vdi.pool import Pool"
   ]
  },
  {
   "cell_type": "code",
   "execution_count": 2,
   "metadata": {},
   "outputs": [],
   "source": [
    "template_id = \"f0c4a695-7c12-4b9c-88d4-1d2611dd8648\""
   ]
  },
  {
   "cell_type": "code",
   "execution_count": 3,
   "metadata": {},
   "outputs": [],
   "source": [
    "poo = Pool(template_id=template_id)"
   ]
  },
  {
   "cell_type": "code",
   "execution_count": 4,
   "metadata": {},
   "outputs": [],
   "source": [
    "Pool.instances[1] = poo"
   ]
  },
  {
   "cell_type": "code",
   "execution_count": 6,
   "metadata": {},
   "outputs": [
    {
     "data": {
      "text/plain": [
       "{'ha_timeout': 60,\n",
       " 'graphics_password': 'tOq5ylxNWQKZsvLq',\n",
       " 'owners': [],\n",
       " 'os_defaults': {'video': {'type': 'cirrus'},\n",
       "  'sound': {'codec': 'micro', 'model': 'ich6'},\n",
       "  'controllers': {'vinterface': {'nic_driver': None},\n",
       "   'vdisk': {'target_bus': None}}},\n",
       " 'ha_nodepolicy': [],\n",
       " 'ha_options_cluster_sync': True,\n",
       " 'cluster': '23b395af-13da-424b-a9a6-8b94046da151',\n",
       " 'clean_type': 'zero',\n",
       " 'locked_by': 'f18123e1-b253-4425-bca2-5501905e47f6',\n",
       " 'service_module': False,\n",
       " 'remote_access_white_list': [],\n",
       " 'permissions': {'update': True,\n",
       "  'update_controllers': True,\n",
       "  'spice': True,\n",
       "  'resume': True,\n",
       "  'detach_pci': True,\n",
       "  'remove': True,\n",
       "  'migrate': True,\n",
       "  'shutdown': True,\n",
       "  'detach_iso': True,\n",
       "  'remote_access': True,\n",
       "  'suspend': True,\n",
       "  'update_boot': True,\n",
       "  'safety': True,\n",
       "  'start': True,\n",
       "  'reboot': True,\n",
       "  'snapshots_tree': True,\n",
       "  'attach_vdisk': True,\n",
       "  'recover': True,\n",
       "  'detach_lun': True,\n",
       "  'update_resources': True,\n",
       "  'update_sound_device': True,\n",
       "  'update_ha_options': True,\n",
       "  'snapshots_info': True,\n",
       "  'update_video_device': True,\n",
       "  'detach_vdisk': True,\n",
       "  'attach_pci': True,\n",
       "  'attach_usb': True,\n",
       "  'set_owners': True,\n",
       "  'multi_create_domain': True,\n",
       "  'attach_iso': True,\n",
       "  'update_disastery_options': True,\n",
       "  'detach_usb': True,\n",
       "  'attach_lun': True},\n",
       " 'uptime_on_current_node': {'start_time': 0, 'uptime': 0},\n",
       " 'id': '9228dcfa-4e2f-44d5-8dca-aaec06bc5af6',\n",
       " 'disastery_enabled': False,\n",
       " 'applied_snapshot': None,\n",
       " 'free_slots': {'sata': 14, 'scsi': 0, 'usb': 4, 'ide': 3, 'pci': 55},\n",
       " 'remote_access_port': None,\n",
       " 'description': '',\n",
       " 'user_power_state': 1,\n",
       " 'bootmenu': False,\n",
       " 'status': 'ACTIVE',\n",
       " 'cpu_type': 'Other',\n",
       " 'remote_access': False,\n",
       " 'sound': {'codec': 'micro', 'model': 'ich6'},\n",
       " 'current_state': None,\n",
       " 'ha_autoselect': False,\n",
       " 'remote_access_allow_all': True,\n",
       " 'node': {'id': '98a9ac19-590b-4e6f-815d-1ee223a11246', 'verbose_name': 'n1'},\n",
       " 'hints': 0,\n",
       " 'bootmenu_timeout': 3,\n",
       " 'boot_type': 'LegacyMBR',\n",
       " 'safety': False,\n",
       " 'os_type': 'Other',\n",
       " 'pci_devices': [],\n",
       " 'video': {'type': 'cirrus', 'heads': 1, 'vram': 16384},\n",
       " 'created': '2019-02-28T17:09:25.185843Z',\n",
       " 'verbose_name': 'ubuntu-745fdef6',\n",
       " 'cpu_topology': {'cpu_model': 'default',\n",
       "  'cpu_sockets': 1,\n",
       "  'cpu_cores': 1,\n",
       "  'cpu_count_max': 1,\n",
       "  'cpu_priority': 10,\n",
       "  'cpu_map': {},\n",
       "  'cpu_count': 1,\n",
       "  'cpu_threads': 1,\n",
       "  'cpu_mode': 'default'},\n",
       " 'ha_retrycount': 5,\n",
       " 'ha_enabled': False,\n",
       " 'uptime_total': 0,\n",
       " 'modified': '2019-02-28T17:09:25.215637Z',\n",
       " 'clean_count': 1,\n",
       " 'usb_devices': [],\n",
       " 'tags': [],\n",
       " 'controllers': {'sata': [{}],\n",
       "  'scsi': [],\n",
       "  'usb': [{'order': 0, 'model': 'nec-xhci'}],\n",
       "  'ide': [{}],\n",
       "  'pci': [{'order': 0, 'model': 'pci-root'},\n",
       "   {'order': 1, 'model': 'pci-bridge'}]},\n",
       " 'ha_boot_order': 5,\n",
       " 'memory_count': 1024}"
      ]
     },
     "execution_count": 6,
     "metadata": {},
     "output_type": "execute_result"
    }
   ],
   "source": [
    "await poo.add_domain()"
   ]
  },
  {
   "cell_type": "code",
   "execution_count": 8,
   "metadata": {},
   "outputs": [
    {
     "name": "stdout",
     "output_type": "stream",
     "text": [
      "> \u001b[0;32m/home/pwtail/projects/vdi2/vdi/tasks/client.py\u001b[0m(54)\u001b[0;36mfetch_using\u001b[0;34m()\u001b[0m\n",
      "\u001b[0;32m     52 \u001b[0;31m                \u001b[0mdic\u001b[0m\u001b[0;34m[\u001b[0m\u001b[0mname\u001b[0m\u001b[0;34m]\u001b[0m \u001b[0;34m=\u001b[0m \u001b[0mmethod\u001b[0m\u001b[0;34m\u001b[0m\u001b[0;34m\u001b[0m\u001b[0m\n",
      "\u001b[0m\u001b[0;32m     53 \u001b[0;31m        \u001b[0murl\u001b[0m \u001b[0;34m=\u001b[0m \u001b[0mdic\u001b[0m\u001b[0;34m.\u001b[0m\u001b[0mpop\u001b[0m\u001b[0;34m(\u001b[0m\u001b[0;34m'url'\u001b[0m\u001b[0;34m)\u001b[0m\u001b[0;34m\u001b[0m\u001b[0;34m\u001b[0m\u001b[0m\n",
      "\u001b[0m\u001b[0;32m---> 54 \u001b[0;31m        \u001b[0mresponse\u001b[0m \u001b[0;34m=\u001b[0m \u001b[0;32mawait\u001b[0m \u001b[0mself\u001b[0m\u001b[0;34m.\u001b[0m\u001b[0m_client\u001b[0m\u001b[0;34m.\u001b[0m\u001b[0mfetch\u001b[0m\u001b[0;34m(\u001b[0m\u001b[0murl\u001b[0m\u001b[0;34m,\u001b[0m \u001b[0;34m**\u001b[0m\u001b[0mdic\u001b[0m\u001b[0;34m)\u001b[0m\u001b[0;34m\u001b[0m\u001b[0;34m\u001b[0m\u001b[0m\n",
      "\u001b[0m\u001b[0;32m     55 \u001b[0;31m        \u001b[0;32mif\u001b[0m \u001b[0mself\u001b[0m\u001b[0;34m.\u001b[0m\u001b[0m_json\u001b[0m\u001b[0;34m:\u001b[0m\u001b[0;34m\u001b[0m\u001b[0;34m\u001b[0m\u001b[0m\n",
      "\u001b[0m\u001b[0;32m     56 \u001b[0;31m            \u001b[0mresponse\u001b[0m \u001b[0;34m=\u001b[0m \u001b[0mjson\u001b[0m\u001b[0;34m.\u001b[0m\u001b[0mloads\u001b[0m\u001b[0;34m(\u001b[0m\u001b[0mresponse\u001b[0m\u001b[0;34m.\u001b[0m\u001b[0mbody\u001b[0m\u001b[0;34m)\u001b[0m\u001b[0;34m\u001b[0m\u001b[0;34m\u001b[0m\u001b[0m\n",
      "\u001b[0m\n"
     ]
    },
    {
     "name": "stdin",
     "output_type": "stream",
     "text": [
      "ipdb>  url\n"
     ]
    },
    {
     "name": "stdout",
     "output_type": "stream",
     "text": [
      "'http://192.168.20.120/api/vdisks/?domain=7c82bf02-b683-484f-8f3a-95a75c3345de'\n"
     ]
    },
    {
     "name": "stdin",
     "output_type": "stream",
     "text": [
      "ipdb>  c\n"
     ]
    }
   ],
   "source": [
    "poo = Pool(template_id=template_id)"
   ]
  },
  {
   "cell_type": "code",
   "execution_count": 4,
   "metadata": {},
   "outputs": [
    {
     "name": "stdout",
     "output_type": "stream",
     "text": [
      "{'errors': {'detail': ['Сущность заблокирована активной задачей.']}}\n",
      "HTTP 400: Bad Request\n"
     ]
    },
    {
     "name": "stderr",
     "output_type": "stream",
     "text": [
      "http://192.168.20.120/api/vdisks/fb820be4-c1af-4b9a-9990-55ab5119a7c5/copy/?async=1\n"
     ]
    },
    {
     "ename": "HTTPClientError",
     "evalue": "HTTP 400: Bad Request",
     "output_type": "error",
     "traceback": [
      "\u001b[0;31m---------------------------------------------------------------------------\u001b[0m",
      "\u001b[0;31mHTTPClientError\u001b[0m                           Traceback (most recent call last)",
      "\u001b[0;32m<ipython-input-4-79a0ba9fe956>\u001b[0m in \u001b[0;36masync-def-wrapper\u001b[0;34m()\u001b[0m\n",
      "\u001b[0;32m~/projects/vdi2/vdi/tasks/vm.py\u001b[0m in \u001b[0;36mrun\u001b[0;34m(self)\u001b[0m\n\u001b[1;32m    157\u001b[0m         \u001b[0;34m[\u001b[0m\u001b[0mvdisk0\u001b[0m\u001b[0;34m]\u001b[0m \u001b[0;34m=\u001b[0m \u001b[0;32mawait\u001b[0m \u001b[0mself\u001b[0m\u001b[0;34m.\u001b[0m\u001b[0mlist_vdisks\u001b[0m\u001b[0;34m(\u001b[0m\u001b[0;34m)\u001b[0m\u001b[0;34m\u001b[0m\u001b[0;34m\u001b[0m\u001b[0m\n\u001b[1;32m    158\u001b[0m         \u001b[0mdomain\u001b[0m \u001b[0;34m=\u001b[0m \u001b[0;32mawait\u001b[0m \u001b[0mCreateDomain\u001b[0m\u001b[0;34m(\u001b[0m\u001b[0;34m)\u001b[0m\u001b[0;34m\u001b[0m\u001b[0;34m\u001b[0m\u001b[0m\n\u001b[0;32m--> 159\u001b[0;31m         \u001b[0mvdisk\u001b[0m \u001b[0;34m=\u001b[0m \u001b[0;32mawait\u001b[0m \u001b[0mdisk\u001b[0m\u001b[0;34m.\u001b[0m\u001b[0mCopyDisk\u001b[0m\u001b[0;34m(\u001b[0m\u001b[0mvdisk\u001b[0m\u001b[0;34m=\u001b[0m\u001b[0mvdisk0\u001b[0m\u001b[0;34m,\u001b[0m \u001b[0mverbose_name\u001b[0m\u001b[0;34m=\u001b[0m\u001b[0mdomain\u001b[0m\u001b[0;34m[\u001b[0m\u001b[0;34m'verbose_name'\u001b[0m\u001b[0;34m]\u001b[0m\u001b[0;34m)\u001b[0m\u001b[0;34m\u001b[0m\u001b[0;34m\u001b[0m\u001b[0m\n\u001b[0m\u001b[1;32m    160\u001b[0m         \u001b[0;32mawait\u001b[0m \u001b[0mAttachVdisk\u001b[0m\u001b[0;34m(\u001b[0m\u001b[0mdomain\u001b[0m\u001b[0;34m=\u001b[0m\u001b[0mdomain\u001b[0m\u001b[0;34m,\u001b[0m \u001b[0mvdisk\u001b[0m\u001b[0;34m=\u001b[0m\u001b[0mvdisk\u001b[0m\u001b[0;34m)\u001b[0m\u001b[0;34m\u001b[0m\u001b[0;34m\u001b[0m\u001b[0m\n\u001b[1;32m    161\u001b[0m         \u001b[0;32mreturn\u001b[0m \u001b[0mdomain\u001b[0m\u001b[0;34m\u001b[0m\u001b[0;34m\u001b[0m\u001b[0m\n",
      "\u001b[0;32m~/projects/vdi2/vdi/tasks/disk.py\u001b[0m in \u001b[0;36mrun\u001b[0;34m(self)\u001b[0m\n\u001b[1;32m    128\u001b[0m         \u001b[0mws\u001b[0m \u001b[0;34m=\u001b[0m \u001b[0;32mawait\u001b[0m \u001b[0mWsConnection\u001b[0m\u001b[0;34m(\u001b[0m\u001b[0;34m)\u001b[0m\u001b[0;34m\u001b[0m\u001b[0;34m\u001b[0m\u001b[0m\n\u001b[1;32m    129\u001b[0m         \u001b[0;32mawait\u001b[0m \u001b[0mws\u001b[0m\u001b[0;34m.\u001b[0m\u001b[0msend\u001b[0m\u001b[0;34m(\u001b[0m\u001b[0;34m'add /tasks/'\u001b[0m\u001b[0;34m)\u001b[0m\u001b[0;34m\u001b[0m\u001b[0;34m\u001b[0m\u001b[0m\n\u001b[0;32m--> 130\u001b[0;31m         \u001b[0mresponse\u001b[0m \u001b[0;34m=\u001b[0m \u001b[0;32mawait\u001b[0m \u001b[0mHttpClient\u001b[0m\u001b[0;34m(\u001b[0m\u001b[0;34m)\u001b[0m\u001b[0;34m.\u001b[0m\u001b[0mfetch_using\u001b[0m\u001b[0;34m(\u001b[0m\u001b[0mself\u001b[0m\u001b[0;34m)\u001b[0m\u001b[0;34m\u001b[0m\u001b[0;34m\u001b[0m\u001b[0m\n\u001b[0m\u001b[1;32m    131\u001b[0m         \u001b[0mself\u001b[0m\u001b[0;34m.\u001b[0m\u001b[0mtask\u001b[0m \u001b[0;34m=\u001b[0m \u001b[0mresponse\u001b[0m\u001b[0;34m[\u001b[0m\u001b[0;34m'_task'\u001b[0m\u001b[0;34m]\u001b[0m\u001b[0;34m\u001b[0m\u001b[0;34m\u001b[0m\u001b[0m\n\u001b[1;32m    132\u001b[0m         \u001b[0;32mawait\u001b[0m \u001b[0mws\u001b[0m\u001b[0;34m.\u001b[0m\u001b[0mmatch_message\u001b[0m\u001b[0;34m(\u001b[0m\u001b[0mself\u001b[0m\u001b[0;34m.\u001b[0m\u001b[0mis_done\u001b[0m\u001b[0;34m)\u001b[0m\u001b[0;34m\u001b[0m\u001b[0;34m\u001b[0m\u001b[0m\n",
      "\u001b[0;32m~/projects/vdi2/vdi/tasks/client.py\u001b[0m in \u001b[0;36mfetch_using\u001b[0;34m(self, ns, **dic)\u001b[0m\n\u001b[1;32m     56\u001b[0m         \u001b[0murl\u001b[0m \u001b[0;34m=\u001b[0m \u001b[0mdic\u001b[0m\u001b[0;34m.\u001b[0m\u001b[0mpop\u001b[0m\u001b[0;34m(\u001b[0m\u001b[0;34m'url'\u001b[0m\u001b[0;34m)\u001b[0m\u001b[0;34m\u001b[0m\u001b[0;34m\u001b[0m\u001b[0m\n\u001b[1;32m     57\u001b[0m         \u001b[0;32mtry\u001b[0m\u001b[0;34m:\u001b[0m\u001b[0;34m\u001b[0m\u001b[0;34m\u001b[0m\u001b[0m\n\u001b[0;32m---> 58\u001b[0;31m             \u001b[0mresponse\u001b[0m \u001b[0;34m=\u001b[0m \u001b[0;32mawait\u001b[0m \u001b[0mself\u001b[0m\u001b[0;34m.\u001b[0m\u001b[0m_client\u001b[0m\u001b[0;34m.\u001b[0m\u001b[0mfetch\u001b[0m\u001b[0;34m(\u001b[0m\u001b[0murl\u001b[0m\u001b[0;34m,\u001b[0m \u001b[0;34m**\u001b[0m\u001b[0mdic\u001b[0m\u001b[0;34m)\u001b[0m\u001b[0;34m\u001b[0m\u001b[0;34m\u001b[0m\u001b[0m\n\u001b[0m\u001b[1;32m     59\u001b[0m         \u001b[0;32mexcept\u001b[0m\u001b[0;34m:\u001b[0m\u001b[0;34m\u001b[0m\u001b[0;34m\u001b[0m\u001b[0m\n\u001b[1;32m     60\u001b[0m             \u001b[0mprint\u001b[0m\u001b[0;34m(\u001b[0m\u001b[0murl\u001b[0m\u001b[0;34m,\u001b[0m \u001b[0mfile\u001b[0m\u001b[0;34m=\u001b[0m\u001b[0msys\u001b[0m\u001b[0;34m.\u001b[0m\u001b[0mstderr\u001b[0m\u001b[0;34m)\u001b[0m\u001b[0;34m\u001b[0m\u001b[0;34m\u001b[0m\u001b[0m\n",
      "\u001b[0;31mHTTPClientError\u001b[0m: HTTP 400: Bad Request"
     ]
    },
    {
     "name": "stderr",
     "output_type": "stream",
     "text": [
      "http://192.168.20.120/api/vdisks/fb820be4-c1af-4b9a-9990-55ab5119a7c5/copy/?async=1\n",
      "http://192.168.20.120/api/vdisks/fb820be4-c1af-4b9a-9990-55ab5119a7c5/copy/?async=1\n"
     ]
    },
    {
     "name": "stdout",
     "output_type": "stream",
     "text": [
      "{'errors': {'detail': ['Сущность заблокирована активной задачей.']}}\n",
      "HTTP 400: Bad Request\n",
      "{'errors': {'detail': ['Сущность заблокирована активной задачей.']}}\n",
      "HTTP 400: Bad Request\n"
     ]
    },
    {
     "name": "stderr",
     "output_type": "stream",
     "text": [
      "http://192.168.20.120/api/vdisks/fb820be4-c1af-4b9a-9990-55ab5119a7c5/copy/?async=1\n"
     ]
    },
    {
     "name": "stdout",
     "output_type": "stream",
     "text": [
      "{'errors': {'detail': ['Сущность заблокирована активной задачей.']}}\n",
      "HTTP 400: Bad Request\n"
     ]
    }
   ],
   "source": [
    "import asyncio\n",
    "tasks = [\n",
    "    poo.add_domain() for i in range(5)\n",
    "]\n",
    "await asyncio.gather(*tasks)"
   ]
  },
  {
   "cell_type": "code",
   "execution_count": null,
   "metadata": {},
   "outputs": [
    {
     "name": "stdout",
     "output_type": "stream",
     "text": [
      "> \u001b[0;32m/home/pwtail/projects/vdi2/vdi/tasks/client.py\u001b[0m(54)\u001b[0;36mfetch_using\u001b[0;34m()\u001b[0m\n",
      "\u001b[0;32m     52 \u001b[0;31m                \u001b[0mdic\u001b[0m\u001b[0;34m[\u001b[0m\u001b[0mname\u001b[0m\u001b[0;34m]\u001b[0m \u001b[0;34m=\u001b[0m \u001b[0mmethod\u001b[0m\u001b[0;34m\u001b[0m\u001b[0;34m\u001b[0m\u001b[0m\n",
      "\u001b[0m\u001b[0;32m     53 \u001b[0;31m        \u001b[0murl\u001b[0m \u001b[0;34m=\u001b[0m \u001b[0mdic\u001b[0m\u001b[0;34m.\u001b[0m\u001b[0mpop\u001b[0m\u001b[0;34m(\u001b[0m\u001b[0;34m'url'\u001b[0m\u001b[0;34m)\u001b[0m\u001b[0;34m\u001b[0m\u001b[0;34m\u001b[0m\u001b[0m\n",
      "\u001b[0m\u001b[0;32m---> 54 \u001b[0;31m        \u001b[0mresponse\u001b[0m \u001b[0;34m=\u001b[0m \u001b[0;32mawait\u001b[0m \u001b[0mself\u001b[0m\u001b[0;34m.\u001b[0m\u001b[0m_client\u001b[0m\u001b[0;34m.\u001b[0m\u001b[0mfetch\u001b[0m\u001b[0;34m(\u001b[0m\u001b[0murl\u001b[0m\u001b[0;34m,\u001b[0m \u001b[0;34m**\u001b[0m\u001b[0mdic\u001b[0m\u001b[0;34m)\u001b[0m\u001b[0;34m\u001b[0m\u001b[0;34m\u001b[0m\u001b[0m\n",
      "\u001b[0m\u001b[0;32m     55 \u001b[0;31m        \u001b[0;32mif\u001b[0m \u001b[0mself\u001b[0m\u001b[0;34m.\u001b[0m\u001b[0m_json\u001b[0m\u001b[0;34m:\u001b[0m\u001b[0;34m\u001b[0m\u001b[0;34m\u001b[0m\u001b[0m\n",
      "\u001b[0m\u001b[0;32m     56 \u001b[0;31m            \u001b[0mresponse\u001b[0m \u001b[0;34m=\u001b[0m \u001b[0mjson\u001b[0m\u001b[0;34m.\u001b[0m\u001b[0mloads\u001b[0m\u001b[0;34m(\u001b[0m\u001b[0mresponse\u001b[0m\u001b[0;34m.\u001b[0m\u001b[0mbody\u001b[0m\u001b[0;34m)\u001b[0m\u001b[0;34m\u001b[0m\u001b[0;34m\u001b[0m\u001b[0m\n",
      "\u001b[0m\n"
     ]
    },
    {
     "name": "stdin",
     "output_type": "stream",
     "text": [
      "ipdb>  url\n"
     ]
    },
    {
     "name": "stdout",
     "output_type": "stream",
     "text": [
      "'http://192.168.20.120/api/vdisks/fb820be4-c1af-4b9a-9990-55ab5119a7c5/copy/?async=1'\n"
     ]
    }
   ],
   "source": [
    "debug"
   ]
  },
  {
   "cell_type": "code",
   "execution_count": 7,
   "metadata": {},
   "outputs": [
    {
     "name": "stdout",
     "output_type": "stream",
     "text": [
      "\\u0421\\u0443\\u0449\\u043d\\u043e\\u0441\\u0442\\u044c \\u0437\\u0430\\u0431\\u043b\\u043e\\u043a\\u0438\\u0440\\u043e\\u0432\\u0430\\u043d\\u0430 \\u0430\\u043a\\u0442\\u0438\\u0432\\u043d\\u043e\\u0439 \\u0437\\u0430\\u0434\\u0430\\u0447\\u0435\\u0439.\n"
     ]
    }
   ],
   "source": [
    "print(\"\\\\u0421\\\\u0443\\\\u0449\\\\u043d\\\\u043e\\\\u0441\\\\u0442\\\\u044c \\\\u0437\\\\u0430\\\\u0431\\\\u043b\\\\u043e\\\\u043a\\\\u0438\\\\u0440\\\\u043e\\\\u0432\\\\u0430\\\\u043d\\\\u0430 \\\\u0430\\\\u043a\\\\u0442\\\\u0438\\\\u0432\\\\u043d\\\\u043e\\\\u0439 \\\\u0437\\\\u0430\\\\u0434\\\\u0430\\\\u0447\\\\u0435\\\\u0439.\"\n",
    "     )"
   ]
  },
  {
   "cell_type": "code",
   "execution_count": null,
   "metadata": {},
   "outputs": [],
   "source": []
  }
 ],
 "metadata": {
  "kernelspec": {
   "display_name": "Python 3",
   "language": "python",
   "name": "python3"
  },
  "language_info": {
   "codemirror_mode": {
    "name": "ipython",
    "version": 3
   },
   "file_extension": ".py",
   "mimetype": "text/x-python",
   "name": "python",
   "nbconvert_exporter": "python",
   "pygments_lexer": "ipython3",
   "version": "3.7.2"
  }
 },
 "nbformat": 4,
 "nbformat_minor": 2
}
