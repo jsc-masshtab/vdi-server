{
 "cells": [
  {
   "cell_type": "code",
   "execution_count": 1,
   "metadata": {},
   "outputs": [],
   "source": [
    "from vdi.tasks.vm import SetupDomain"
   ]
  },
  {
   "cell_type": "code",
   "execution_count": 2,
   "metadata": {},
   "outputs": [
    {
     "data": {
      "text/plain": [
       "{'locked_by': '9234b21f-cc52-4a29-a4a1-06ca8dd39d7e',\n",
       " 'cluster': 'fe4d59d3-1d1b-4837-82af-ab4b73ea37e1',\n",
       " 'remote_access_allow_all': True,\n",
       " 'pci_devices': [],\n",
       " 'applied_snapshot': None,\n",
       " 'remote_access': False,\n",
       " 'usb_devices': [],\n",
       " 'uptime_total': 0,\n",
       " 'free_slots': {'scsi': 0, 'pci': 55, 'usb': 4, 'ide': 3, 'sata': 14},\n",
       " 'template': False,\n",
       " 'created': '2019-04-24T18:46:44.401962Z',\n",
       " 'controllers': {'scsi': [],\n",
       "  'pci': [{'order': 0, 'model': 'pci-root'},\n",
       "   {'order': 1, 'model': 'pci-bridge'}],\n",
       "  'usb': [{'order': 0, 'model': 'nec-xhci'}],\n",
       "  'ide': [{}],\n",
       "  'sata': [{}]},\n",
       " 'verbose_name': 'image-282afb08',\n",
       " 'current_state': None,\n",
       " 'tags': [],\n",
       " 'ha_nodepolicy': [],\n",
       " 'disastery_enabled': False,\n",
       " 'ha_autoselect': False,\n",
       " 'status': 'ACTIVE',\n",
       " 'cpu_type': 'Other',\n",
       " 'memory_count': 1024,\n",
       " 'hints': 0,\n",
       " 'permissions': {'detach_usb': True,\n",
       "  'update': True,\n",
       "  'attach_usb': True,\n",
       "  'detach_lun': True,\n",
       "  'update_controllers': True,\n",
       "  'update_disastery_options': True,\n",
       "  'detach_pci': True,\n",
       "  'snapshots_tree': True,\n",
       "  'remote_access': True,\n",
       "  'update_video_device': True,\n",
       "  'update_boot': True,\n",
       "  'shutdown': True,\n",
       "  'attach_iso': True,\n",
       "  'spice': True,\n",
       "  'resume': True,\n",
       "  'attach_vdisk': True,\n",
       "  'detach_iso': True,\n",
       "  'migrate': True,\n",
       "  'multi_create_domain': True,\n",
       "  'set_owners': True,\n",
       "  'detach_vdisk': True,\n",
       "  'remove': True,\n",
       "  'recover': True,\n",
       "  'attach_pci': True,\n",
       "  'update_sound_device': True,\n",
       "  'suspend': True,\n",
       "  'attach_lun': True,\n",
       "  'reboot': True,\n",
       "  'update_resources': True,\n",
       "  'start': True,\n",
       "  'safety': True,\n",
       "  'clone': True,\n",
       "  'update_ha_options': True,\n",
       "  'template': True,\n",
       "  'snapshots_info': True},\n",
       " 'clean_type': 'zero',\n",
       " 'owners': [],\n",
       " 'video': {'heads': 1, 'vram': 16384, 'type': 'cirrus'},\n",
       " 'uptime_on_current_node': {'start_time': 0,\n",
       "  'uptime': 0,\n",
       "  'system_time': '2019-04-24T18:46:45.505358Z'},\n",
       " 'ha_options_cluster_sync': True,\n",
       " 'remote_access_port': None,\n",
       " 'cpu_topology': {'cpu_sockets': 1,\n",
       "  'cpu_priority': 10,\n",
       "  'cpu_threads': 1,\n",
       "  'cpu_mode': 'default',\n",
       "  'cpu_map': {},\n",
       "  'cpu_model': 'default',\n",
       "  'cpu_cores': 1,\n",
       "  'cpu_count': 1,\n",
       "  'cpu_count_max': 1},\n",
       " 'bootmenu': False,\n",
       " 'service_module': False,\n",
       " 'clean_count': 1,\n",
       " 'graphics_password': 'ekkrfZjOFqi6SMNC',\n",
       " 'user_power_state': 1,\n",
       " 'id': 'cefa4fc7-a7f1-4e16-b786-fb6620fe617e',\n",
       " 'description': '',\n",
       " 'os_defaults': {'video': {'type': 'cirrus'},\n",
       "  'controllers': {'vdisk': {'target_bus': None},\n",
       "   'vinterface': {'nic_driver': None}},\n",
       "  'sound': {'codec': 'micro', 'model': 'ich6'}},\n",
       " 'ha_retrycount': 5,\n",
       " 'ha_timeout': 60,\n",
       " 'node': {'verbose_name': 'node1',\n",
       "  'id': 'd6f98aaa-51d5-488b-987e-3d0d92caf6e6'},\n",
       " 'modified': '2019-04-24T18:46:45.046670Z',\n",
       " 'os_type': 'Other',\n",
       " 'bootmenu_timeout': 3,\n",
       " 'boot_type': 'LegacyMBR',\n",
       " 'safety': False,\n",
       " 'sound': {'codec': 'micro', 'model': 'ich6'},\n",
       " 'ha_enabled': False,\n",
       " 'ha_boot_order': 1,\n",
       " 'remote_access_white_list': []}"
      ]
     },
     "execution_count": 2,
     "metadata": {},
     "output_type": "execute_result"
    }
   ],
   "source": [
    "await SetupDomain(image_name='image')"
   ]
  },
  {
   "cell_type": "code",
   "execution_count": 3,
   "metadata": {},
   "outputs": [],
   "source": [
    "from dataclasses import dataclass\n",
    "\n",
    "@dataclass()\n",
    "class A:\n",
    "    x: str"
   ]
  },
  {
   "cell_type": "code",
   "execution_count": 4,
   "metadata": {},
   "outputs": [
    {
     "ename": "TypeError",
     "evalue": "__init__() got an unexpected keyword argument 'y'",
     "output_type": "error",
     "traceback": [
      "\u001b[0;31m---------------------------------------------------------------------------\u001b[0m",
      "\u001b[0;31mTypeError\u001b[0m                                 Traceback (most recent call last)",
      "\u001b[0;32m<ipython-input-4-264724de4894>\u001b[0m in \u001b[0;36m<module>\u001b[0;34m\u001b[0m\n\u001b[0;32m----> 1\u001b[0;31m \u001b[0mA\u001b[0m\u001b[0;34m(\u001b[0m\u001b[0mx\u001b[0m\u001b[0;34m=\u001b[0m\u001b[0;36m2\u001b[0m\u001b[0;34m,\u001b[0m \u001b[0my\u001b[0m\u001b[0;34m=\u001b[0m\u001b[0;36m4\u001b[0m\u001b[0;34m)\u001b[0m\u001b[0;34m\u001b[0m\u001b[0;34m\u001b[0m\u001b[0m\n\u001b[0m",
      "\u001b[0;31mTypeError\u001b[0m: __init__() got an unexpected keyword argument 'y'"
     ]
    }
   ],
   "source": [
    "A(x=2, y=4)"
   ]
  },
  {
   "cell_type": "code",
   "execution_count": null,
   "metadata": {},
   "outputs": [],
   "source": []
  }
 ],
 "metadata": {
  "kernelspec": {
   "display_name": "Python 3",
   "language": "python",
   "name": "python3"
  },
  "language_info": {
   "codemirror_mode": {
    "name": "ipython",
    "version": 3
   },
   "file_extension": ".py",
   "mimetype": "text/x-python",
   "name": "python",
   "nbconvert_exporter": "python",
   "pygments_lexer": "ipython3",
   "version": "3.7.3"
  }
 },
 "nbformat": 4,
 "nbformat_minor": 2
}
