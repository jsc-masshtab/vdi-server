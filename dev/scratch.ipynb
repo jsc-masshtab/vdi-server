{
 "cells": [
  {
   "cell_type": "code",
   "execution_count": 1,
   "metadata": {},
   "outputs": [],
   "source": [
    "from vdi.client import PrepareVm"
   ]
  },
  {
   "cell_type": "code",
   "execution_count": 2,
   "metadata": {
    "scrolled": true
   },
   "outputs": [
    {
     "data": {
      "text/plain": [
       "HTTPResponse(_body=None,_error_is_response_code=False,buffer=<_io.BytesIO object at 0x7f4c203db780>,code=200,effective_url='http://192.168.20.120/api/domains/7edec653-a4aa-453e-9b94-95996e434347/remote-access/',error=None,headers=<tornado.httputil.HTTPHeaders object at 0x7f4c20047710>,reason='OK',request=<tornado.httpclient.HTTPRequest object at 0x7f4c203e7d68>,request_time=1.3825316429138184,start_time=1553611776.3835351,time_info={})"
      ]
     },
     "execution_count": 2,
     "metadata": {},
     "output_type": "execute_result"
    }
   ],
   "source": [
    "await PrepareVm(domain_id='7edec653-a4aa-453e-9b94-95996e434347')"
   ]
  },
  {
   "cell_type": "code",
   "execution_count": 3,
   "metadata": {},
   "outputs": [
    {
     "data": {
      "text/plain": [
       "b'{\"cpu_type\": \"Other\", \"ha_nodepolicy\": [], \"os_type\": \"Other\", \"safety\": false, \"verbose_name\": \"centos-50043b22\", \"current_state\": null, \"remote_access_allow_all\": true, \"ha_boot_order\": 2, \"controllers\": {\"usb\": [{\"order\": 0, \"model\": \"nec-xhci\"}], \"sata\": [{}], \"ide\": [{}], \"scsi\": [], \"pci\": [{\"order\": 0, \"model\": \"pci-root\"}, {\"order\": 1, \"model\": \"pci-bridge\"}]}, \"bootmenu_timeout\": 3, \"applied_snapshot\": null, \"remote_access_port\": 5901, \"memory_count\": 1024, \"cluster\": \"e5979ee7-2bd3-41d2-82fe-54a15058e0b8\", \"remote_access\": true, \"free_slots\": {\"usb\": 4, \"sata\": 14, \"ide\": 3, \"scsi\": 0, \"pci\": 54}, \"status\": \"ACTIVE\", \"ha_timeout\": 60, \"ha_retrycount\": 5, \"pci_devices\": [], \"graphics_password\": \"B2mXeW4uheJlZLm8\", \"hints\": 0, \"id\": \"7edec653-a4aa-453e-9b94-95996e434347\", \"clean_count\": 1, \"bootmenu\": false, \"boot_type\": \"LegacyMBR\", \"owners\": [], \"cpu_topology\": {\"cpu_model\": \"default\", \"cpu_sockets\": 1, \"cpu_priority\": 10, \"cpu_map\": {}, \"cpu_count\": 1, \"cpu_cores\": 1, \"cpu_threads\": 1, \"cpu_mode\": \"default\", \"cpu_count_max\": 1}, \"modified\": \"2019-03-26T14:49:43.738909Z\", \"uptime_on_current_node\": {\"system_time\": 0, \"uptime\": 0, \"start_time\": 0}, \"uptime_total\": 0, \"created\": \"2019-03-26T14:21:11.902212Z\", \"ha_autoselect\": false, \"ha_enabled\": false, \"os_defaults\": {\"sound\": {\"model\": \"ich6\", \"codec\": \"micro\"}, \"controllers\": {\"vinterface\": {\"nic_driver\": null}, \"vdisk\": {\"target_bus\": null}}, \"video\": {\"type\": \"cirrus\"}}, \"permissions\": {\"attach_usb\": true, \"attach_iso\": true, \"detach_vdisk\": true, \"recover\": true, \"update_boot\": true, \"snapshots_tree\": true, \"safety\": true, \"attach_vdisk\": true, \"detach_pci\": true, \"detach_iso\": true, \"migrate\": true, \"update_resources\": true, \"detach_usb\": true, \"update\": true, \"spice\": true, \"clone\": true, \"detach_lun\": true, \"multi_create_domain\": true, \"suspend\": true, \"set_owners\": true, \"snapshots_info\": true, \"shutdown\": true, \"reboot\": true, \"resume\": true, \"attach_lun\": true, \"update_disastery_options\": true, \"attach_pci\": true, \"start\": true, \"update_ha_options\": true, \"update_sound_device\": true, \"remove\": true, \"update_controllers\": true, \"remote_access\": true, \"update_video_device\": true}, \"user_power_state\": 1, \"service_module\": false, \"clean_type\": \"zero\", \"disastery_enabled\": false, \"usb_devices\": [], \"tags\": [], \"video\": {\"vram\": 16384, \"type\": \"cirrus\", \"heads\": 1}, \"ha_options_cluster_sync\": true, \"node\": {\"verbose_name\": \"node\", \"id\": \"7813b4b0-954a-4aa5-af8c-17058e75f6af\"}, \"sound\": {\"model\": \"ich6\", \"codec\": \"micro\"}, \"remote_access_white_list\": [], \"description\": \"\", \"locked_by\": \"ba0e70ee-d693-4b3f-b6eb-bab6eb086fbc\"}'"
      ]
     },
     "execution_count": 3,
     "metadata": {},
     "output_type": "execute_result"
    }
   ],
   "source": [
    "_.body\n"
   ]
  },
  {
   "cell_type": "code",
   "execution_count": 4,
   "metadata": {},
   "outputs": [
    {
     "data": {
      "text/plain": [
       "{'cpu_type': 'Other',\n",
       " 'ha_nodepolicy': [],\n",
       " 'os_type': 'Other',\n",
       " 'safety': False,\n",
       " 'verbose_name': 'centos-50043b22',\n",
       " 'current_state': None,\n",
       " 'remote_access_allow_all': True,\n",
       " 'ha_boot_order': 2,\n",
       " 'controllers': {'usb': [{'order': 0, 'model': 'nec-xhci'}],\n",
       "  'sata': [{}],\n",
       "  'ide': [{}],\n",
       "  'scsi': [],\n",
       "  'pci': [{'order': 0, 'model': 'pci-root'},\n",
       "   {'order': 1, 'model': 'pci-bridge'}]},\n",
       " 'bootmenu_timeout': 3,\n",
       " 'applied_snapshot': None,\n",
       " 'remote_access_port': 5901,\n",
       " 'memory_count': 1024,\n",
       " 'cluster': 'e5979ee7-2bd3-41d2-82fe-54a15058e0b8',\n",
       " 'remote_access': True,\n",
       " 'free_slots': {'usb': 4, 'sata': 14, 'ide': 3, 'scsi': 0, 'pci': 54},\n",
       " 'status': 'ACTIVE',\n",
       " 'ha_timeout': 60,\n",
       " 'ha_retrycount': 5,\n",
       " 'pci_devices': [],\n",
       " 'graphics_password': 'B2mXeW4uheJlZLm8',\n",
       " 'hints': 0,\n",
       " 'id': '7edec653-a4aa-453e-9b94-95996e434347',\n",
       " 'clean_count': 1,\n",
       " 'bootmenu': False,\n",
       " 'boot_type': 'LegacyMBR',\n",
       " 'owners': [],\n",
       " 'cpu_topology': {'cpu_model': 'default',\n",
       "  'cpu_sockets': 1,\n",
       "  'cpu_priority': 10,\n",
       "  'cpu_map': {},\n",
       "  'cpu_count': 1,\n",
       "  'cpu_cores': 1,\n",
       "  'cpu_threads': 1,\n",
       "  'cpu_mode': 'default',\n",
       "  'cpu_count_max': 1},\n",
       " 'modified': '2019-03-26T14:49:43.738909Z',\n",
       " 'uptime_on_current_node': {'system_time': 0, 'uptime': 0, 'start_time': 0},\n",
       " 'uptime_total': 0,\n",
       " 'created': '2019-03-26T14:21:11.902212Z',\n",
       " 'ha_autoselect': False,\n",
       " 'ha_enabled': False,\n",
       " 'os_defaults': {'sound': {'model': 'ich6', 'codec': 'micro'},\n",
       "  'controllers': {'vinterface': {'nic_driver': None},\n",
       "   'vdisk': {'target_bus': None}},\n",
       "  'video': {'type': 'cirrus'}},\n",
       " 'permissions': {'attach_usb': True,\n",
       "  'attach_iso': True,\n",
       "  'detach_vdisk': True,\n",
       "  'recover': True,\n",
       "  'update_boot': True,\n",
       "  'snapshots_tree': True,\n",
       "  'safety': True,\n",
       "  'attach_vdisk': True,\n",
       "  'detach_pci': True,\n",
       "  'detach_iso': True,\n",
       "  'migrate': True,\n",
       "  'update_resources': True,\n",
       "  'detach_usb': True,\n",
       "  'update': True,\n",
       "  'spice': True,\n",
       "  'clone': True,\n",
       "  'detach_lun': True,\n",
       "  'multi_create_domain': True,\n",
       "  'suspend': True,\n",
       "  'set_owners': True,\n",
       "  'snapshots_info': True,\n",
       "  'shutdown': True,\n",
       "  'reboot': True,\n",
       "  'resume': True,\n",
       "  'attach_lun': True,\n",
       "  'update_disastery_options': True,\n",
       "  'attach_pci': True,\n",
       "  'start': True,\n",
       "  'update_ha_options': True,\n",
       "  'update_sound_device': True,\n",
       "  'remove': True,\n",
       "  'update_controllers': True,\n",
       "  'remote_access': True,\n",
       "  'update_video_device': True},\n",
       " 'user_power_state': 1,\n",
       " 'service_module': False,\n",
       " 'clean_type': 'zero',\n",
       " 'disastery_enabled': False,\n",
       " 'usb_devices': [],\n",
       " 'tags': [],\n",
       " 'video': {'vram': 16384, 'type': 'cirrus', 'heads': 1},\n",
       " 'ha_options_cluster_sync': True,\n",
       " 'node': {'verbose_name': 'node',\n",
       "  'id': '7813b4b0-954a-4aa5-af8c-17058e75f6af'},\n",
       " 'sound': {'model': 'ich6', 'codec': 'micro'},\n",
       " 'remote_access_white_list': [],\n",
       " 'description': '',\n",
       " 'locked_by': 'ba0e70ee-d693-4b3f-b6eb-bab6eb086fbc'}"
      ]
     },
     "execution_count": 4,
     "metadata": {},
     "output_type": "execute_result"
    }
   ],
   "source": [
    "import json\n",
    "json.loads(_)"
   ]
  },
  {
   "cell_type": "code",
   "execution_count": null,
   "metadata": {},
   "outputs": [],
   "source": []
  }
 ],
 "metadata": {
  "kernelspec": {
   "display_name": "Python 3",
   "language": "python",
   "name": "python3"
  },
  "language_info": {
   "codemirror_mode": {
    "name": "ipython",
    "version": 3
   },
   "file_extension": ".py",
   "mimetype": "text/x-python",
   "name": "python",
   "nbconvert_exporter": "python",
   "pygments_lexer": "ipython3",
   "version": "3.7.2"
  }
 },
 "nbformat": 4,
 "nbformat_minor": 2
}
