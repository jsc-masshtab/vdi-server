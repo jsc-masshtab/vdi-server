{
 "cells": [
  {
   "cell_type": "code",
   "execution_count": null,
   "metadata": {},
   "outputs": [
    {
     "name": "stdout",
     "output_type": "stream",
     "text": [
      "> /home/pwtail/.local/share/virtualenvs/vdiserver-lyvpkIcE/lib/python3.7/site-packages/graphql/graphql.py(63)execute_graphql()\n",
      "-> document = backend.document_from_string(schema, request_string)\n",
      "(Pdb) backend\n",
      "<graphql.backend.core.GraphQLCoreBackend object at 0x7f986493d898>\n",
      "(Pdb) l\n",
      " 58  \t    # type: (...) -> Union[ExecutionResult, Observable, Promise[ExecutionResult]]\n",
      " 59  \t    try:\n",
      " 60  \t        if backend is None:\n",
      " 61  \t            backend = get_default_backend()\n",
      " 62  \t        breakpoint()\n",
      " 63  ->\t        document = backend.document_from_string(schema, request_string)\n",
      " 64  \t        return document.execute(\n",
      " 65  \t            root=root,\n",
      " 66  \t            context=context,\n",
      " 67  \t            operation_name=operation_name,\n",
      " 68  \t            variables=variables,\n",
      "(Pdb) schema\n",
      "<graphene.types.schema.Schema object at 0x7f9864141048>\n",
      "(Pdb) request_string\n",
      "'{\\n    pools {\\n      id\\n    }\\n}'\n",
      "(Pdb) n\n",
      "> /home/pwtail/.local/share/virtualenvs/vdiserver-lyvpkIcE/lib/python3.7/site-packages/graphql/graphql.py(64)execute_graphql()\n",
      "-> return document.execute(\n",
      "(Pdb) document.execute\n",
      "functools.partial(<function execute_and_validate at 0x7f98647b1d90>, <graphene.types.schema.Schema object at 0x7f9864141048>, Document(definitions=[OperationDefinition(operation='query', name=None, variable_definitions=None, directives=[], selection_set=SelectionSet(selections=[Field(alias=None, name=Name(value='pools'), arguments=[], directives=[], selection_set=SelectionSet(selections=[Field(alias=None, name=Name(value='id'), arguments=[], directives=[], selection_set=None)]))]))]), executor=None)\n",
      "(Pdb) p locals()\n",
      "{'schema': <graphene.types.schema.Schema object at 0x7f9864141048>, 'request_string': '{\\n    pools {\\n      id\\n    }\\n}', 'root': None, 'context': None, 'variables': None, 'operation_name': None, 'middleware': None, 'backend': <graphql.backend.core.GraphQLCoreBackend object at 0x7f986493d898>, 'execute_options': {}, 'document': <graphql.backend.base.GraphQLDocument object at 0x7f986493db00>}\n",
      "(Pdb) l\n",
      " 59  \t    try:\n",
      " 60  \t        if backend is None:\n",
      " 61  \t            backend = get_default_backend()\n",
      " 62  \t        breakpoint()\n",
      " 63  \t        document = backend.document_from_string(schema, request_string)\n",
      " 64  ->\t        return document.execute(\n",
      " 65  \t            root=root,\n",
      " 66  \t            context=context,\n",
      " 67  \t            operation_name=operation_name,\n",
      " 68  \t            variables=variables,\n",
      " 69  \t            middleware=middleware,\n",
      "(Pdb) l\n",
      " 70  \t            **execute_options\n",
      " 71  \t        )\n",
      " 72  \t    except Exception as e:\n",
      " 73  \t        return ExecutionResult(errors=[e], invalid=True)\n",
      " 74  \t\n",
      " 75  \t\n",
      " 76  \t@promisify\n",
      " 77  \tdef execute_graphql_as_promise(*args, **kwargs):\n",
      " 78  \t    return execute_graphql(*args, **kwargs)\n",
      "[EOF]\n",
      "(Pdb) c\n"
     ]
    }
   ],
   "source": [
    "from graphene.test import Client\n",
    "\n",
    "from vdi.graphql.schema import schema\n",
    "\n",
    "\n",
    "client = Client(schema)\n",
    "r = client.execute('''{\n",
    "    pools {\n",
    "      id\n",
    "    }\n",
    "}''')\n",
    "assert r == {\n",
    "    'data': {\n",
    "        'pools': []\n",
    "    }\n",
    "}"
   ]
  },
  {
   "cell_type": "code",
   "execution_count": null,
   "metadata": {},
   "outputs": [],
   "source": [
    "'''\n",
    "{'schema': <graphene.types.schema.Schema object at 0x7f9864141048>, 'request_string': '{\\n    pools {\\n      id\\n    }\\n}', 'root': None, 'context': None, 'variables': None, 'operation_name': None, 'middleware': None, 'backend': <graphql.backend.core.GraphQLCoreBackend object at 0x7f986493d898>, 'execute_options': {}, 'document': <graphql.backend.base.GraphQLDocument object at 0x7f986493db00>}\n",
    "'''"
   ]
  },
  {
   "cell_type": "code",
   "execution_count": null,
   "metadata": {},
   "outputs": [],
   "source": [
    "document = backend.document_from_string(schema, request_string)\n",
    "r = document.execute(\n",
    "     root=root,\n",
    "     context=context,\n",
    "     operation_name=operation_name,\n",
    "     variables=variables,\n",
    "     middleware=middleware,\n",
    "     **execute_options\n",
    " )"
   ]
  }
 ],
 "metadata": {
  "kernelspec": {
   "display_name": "Python 3",
   "language": "python",
   "name": "python3"
  },
  "language_info": {
   "codemirror_mode": {
    "name": "ipython",
    "version": 3
   },
   "file_extension": ".py",
   "mimetype": "text/x-python",
   "name": "python",
   "nbconvert_exporter": "python",
   "pygments_lexer": "ipython3",
   "version": "3.7.2"
  }
 },
 "nbformat": 4,
 "nbformat_minor": 2
}
