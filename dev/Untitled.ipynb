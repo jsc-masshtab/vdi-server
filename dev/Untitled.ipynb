{
 "cells": [
  {
   "cell_type": "code",
   "execution_count": 1,
   "metadata": {},
   "outputs": [
    {
     "data": {
      "text/plain": [
       "b'{\"errors\": {\"detail\": [\"\\\\u0421\\\\u0443\\\\u0449\\\\u043d\\\\u043e\\\\u0441\\\\u0442\\\\u044c \\\\u0437\\\\u0430\\\\u0431\\\\u043b\\\\u043e\\\\u043a\\\\u0438\\\\u0440\\\\u043e\\\\u0432\\\\u0430\\\\u043d\\\\u0430 \\\\u0430\\\\u043a\\\\u0442\\\\u0438\\\\u0432\\\\u043d\\\\u043e\\\\u0439 \\\\u0437\\\\u0430\\\\u0434\\\\u0430\\\\u0447\\\\u0435\\\\u0439.\"]}}'"
      ]
     },
     "execution_count": 1,
     "metadata": {},
     "output_type": "execute_result"
    }
   ],
   "source": [
    "b'{\"errors\": {\"detail\": [\"\\\\u0421\\\\u0443\\\\u0449\\\\u043d\\\\u043e\\\\u0441\\\\u0442\\\\u044c \\\\u0437\\\\u0430\\\\u0431\\\\u043b\\\\u043e\\\\u043a\\\\u0438\\\\u0440\\\\u043e\\\\u0432\\\\u0430\\\\u043d\\\\u0430 \\\\u0430\\\\u043a\\\\u0442\\\\u0438\\\\u0432\\\\u043d\\\\u043e\\\\u0439 \\\\u0437\\\\u0430\\\\u0434\\\\u0430\\\\u0447\\\\u0435\\\\u0439.\"]}}'"
   ]
  },
  {
   "cell_type": "code",
   "execution_count": 2,
   "metadata": {},
   "outputs": [
    {
     "data": {
      "text/plain": [
       "{'errors': {'detail': ['Сущность заблокирована активной задачей.']}}"
      ]
     },
     "execution_count": 2,
     "metadata": {},
     "output_type": "execute_result"
    }
   ],
   "source": [
    "eval(_)"
   ]
  },
  {
   "cell_type": "code",
   "execution_count": 5,
   "metadata": {},
   "outputs": [],
   "source": [
    "id = 14\n",
    "qu = \"\"\"{\n",
    "  pool(id: %(id)s) {\n",
    "    settings {\n",
    "      initial_size\n",
    "    }\n",
    "    state {\n",
    "      running\n",
    "      available {\n",
    "        id\n",
    "      }\n",
    "    }\n",
    "  }\n",
    "}\"\"\" % locals()"
   ]
  },
  {
   "cell_type": "code",
   "execution_count": 6,
   "metadata": {},
   "outputs": [],
   "source": [
    "from vdi.graphql import schema "
   ]
  },
  {
   "cell_type": "code",
   "execution_count": 8,
   "metadata": {},
   "outputs": [
    {
     "data": {
      "text/plain": [
       "OrderedDict([('pool',\n",
       "              OrderedDict([('settings', None),\n",
       "                           ('state',\n",
       "                            OrderedDict([('running', 'STOPPED'),\n",
       "                                         ('available', [])]))]))])"
      ]
     },
     "execution_count": 8,
     "metadata": {},
     "output_type": "execute_result"
    }
   ],
   "source": [
    "await schema.exec(qu)"
   ]
  },
  {
   "cell_type": "code",
   "execution_count": 4,
   "metadata": {},
   "outputs": [
    {
     "data": {
      "text/plain": [
       "[1]"
      ]
     },
     "execution_count": 4,
     "metadata": {},
     "output_type": "execute_result"
    }
   ],
   "source": [
    "[1] + (None or [])"
   ]
  },
  {
   "cell_type": "code",
   "execution_count": 6,
   "metadata": {},
   "outputs": [
    {
     "data": {
      "text/plain": [
       "b'{\"errors\": {\"domain\": [\"\\\\u0412\\\\u044b\\\\u0431\\\\u0435\\\\u0440\\\\u0438\\\\u0442\\\\u0435 \\\\u043a\\\\u043e\\\\u0440\\\\u0440\\\\u0435\\\\u043a\\\\u0442\\\\u043d\\\\u044b\\\\u0439 \\\\u0432\\\\u0430\\\\u0440\\\\u0438\\\\u0430\\\\u043d\\\\u0442. \\\\u0412\\\\u0430\\\\u0448\\\\u0435\\\\u0433\\\\u043e \\\\u0432\\\\u0430\\\\u0440\\\\u0438\\\\u0430\\\\u043d\\\\u0442\\\\u0430 \\\\u043d\\\\u0435\\\\u0442 \\\\u0441\\\\u0440\\\\u0435\\\\u0434\\\\u0438 \\\\u0434\\\\u043e\\\\u043f\\\\u0443\\\\u0441\\\\u0442\\\\u0438\\\\u043c\\\\u044b\\\\u0445 \\\\u0437\\\\u043d\\\\u0430\\\\u0447\\\\u0435\\\\u043d\\\\u0438\\\\u0439.\"]}}'"
      ]
     },
     "execution_count": 6,
     "metadata": {},
     "output_type": "execute_result"
    }
   ],
   "source": [
    "b'{\"errors\": {\"domain\": [\"\\\\u0412\\\\u044b\\\\u0431\\\\u0435\\\\u0440\\\\u0438\\\\u0442\\\\u0435 \\\\u043a\\\\u043e\\\\u0440\\\\u0440\\\\u0435\\\\u043a\\\\u0442\\\\u043d\\\\u044b\\\\u0439 \\\\u0432\\\\u0430\\\\u0440\\\\u0438\\\\u0430\\\\u043d\\\\u0442. \\\\u0412\\\\u0430\\\\u0448\\\\u0435\\\\u0433\\\\u043e \\\\u0432\\\\u0430\\\\u0440\\\\u0438\\\\u0430\\\\u043d\\\\u0442\\\\u0430 \\\\u043d\\\\u0435\\\\u0442 \\\\u0441\\\\u0440\\\\u0435\\\\u0434\\\\u0438 \\\\u0434\\\\u043e\\\\u043f\\\\u0443\\\\u0441\\\\u0442\\\\u0438\\\\u043c\\\\u044b\\\\u0445 \\\\u0437\\\\u043d\\\\u0430\\\\u0447\\\\u0435\\\\u043d\\\\u0438\\\\u0439.\"]}}'"
   ]
  },
  {
   "cell_type": "code",
   "execution_count": 7,
   "metadata": {},
   "outputs": [
    {
     "data": {
      "text/plain": [
       "{'errors': {'domain': ['Выберите корректный вариант. Вашего варианта нет среди допустимых значений.']}}"
      ]
     },
     "execution_count": 7,
     "metadata": {},
     "output_type": "execute_result"
    }
   ],
   "source": [
    "eval(_)"
   ]
  },
  {
   "cell_type": "code",
   "execution_count": 8,
   "metadata": {},
   "outputs": [
    {
     "data": {
      "text/plain": [
       "{'uptime_on_current_node': {'start_time': 0,\n",
       "  'system_time': '2019-04-11T12:09:50.847563Z',\n",
       "  'uptime': 0},\n",
       " 'node': {'verbose_name': 'node1',\n",
       "  'id': '80f1262f-916b-4551-9176-227cf82a7e43'},\n",
       " 'id': '7d3f0351-fd06-41c6-917c-14ae4e57daf5',\n",
       " 'hints': 0,\n",
       " 'tags': [],\n",
       " 'os_defaults': {'controllers': {'vinterface': {'nic_driver': None},\n",
       "   'vdisk': {'target_bus': None}},\n",
       "  'sound': {'model': 'ich6', 'codec': 'micro'},\n",
       "  'video': {'type': 'cirrus'}},\n",
       " 'remote_access': False,\n",
       " 'bootmenu_timeout': 3,\n",
       " 'ha_timeout': 60,\n",
       " 'user_power_state': 1,\n",
       " 'safety': False,\n",
       " 'memory_count': 1024,\n",
       " 'bootmenu': False,\n",
       " 'permissions': {'migrate': True,\n",
       "  'remote_access': True,\n",
       "  'snapshots_info': True,\n",
       "  'attach_iso': True,\n",
       "  'update_resources': True,\n",
       "  'update_ha_options': True,\n",
       "  'attach_lun': True,\n",
       "  'reboot': True,\n",
       "  'update_disastery_options': True,\n",
       "  'update': True,\n",
       "  'update_video_device': True,\n",
       "  'update_sound_device': True,\n",
       "  'safety': True,\n",
       "  'multi_create_domain': True,\n",
       "  'attach_usb': True,\n",
       "  'suspend': True,\n",
       "  'update_boot': True,\n",
       "  'detach_iso': True,\n",
       "  'remove': True,\n",
       "  'start': True,\n",
       "  'detach_usb': True,\n",
       "  'attach_vdisk': True,\n",
       "  'detach_vdisk': True,\n",
       "  'clone': True,\n",
       "  'shutdown': True,\n",
       "  'attach_pci': True,\n",
       "  'update_controllers': True,\n",
       "  'recover': True,\n",
       "  'snapshots_tree': True,\n",
       "  'set_owners': True,\n",
       "  'spice': True,\n",
       "  'detach_lun': True,\n",
       "  'detach_pci': True,\n",
       "  'resume': True},\n",
       " 'remote_access_port': None,\n",
       " 'remote_access_allow_all': True,\n",
       " 'ha_options_cluster_sync': True,\n",
       " 'locked_by': '1870df5e-1c3b-42b0-9c46-1de0603d8de8',\n",
       " 'applied_snapshot': None,\n",
       " 'ha_nodepolicy': [],\n",
       " 'ha_autoselect': False,\n",
       " 'pci_devices': [],\n",
       " 'cpu_type': 'Other',\n",
       " 'remote_access_white_list': [],\n",
       " 'verbose_name': 've',\n",
       " 'service_module': False,\n",
       " 'modified': '2019-04-11T12:09:50.767449Z',\n",
       " 'disastery_enabled': False,\n",
       " 'status': 'ACTIVE',\n",
       " 'os_type': 'Other',\n",
       " 'clean_count': 1,\n",
       " 'description': '',\n",
       " 'owners': [],\n",
       " 'created': '2019-04-11T12:09:50.717967Z',\n",
       " 'clean_type': 'zero',\n",
       " 'uptime_total': 0,\n",
       " 'free_slots': {'ide': 3, 'pci': 55, 'usb': 4, 'scsi': 0, 'sata': 14},\n",
       " 'ha_boot_order': 8,\n",
       " 'usb_devices': [],\n",
       " 'current_state': None,\n",
       " 'controllers': {'ide': [{}],\n",
       "  'pci': [{'model': 'pci-root', 'order': 0},\n",
       "   {'model': 'pci-bridge', 'order': 1}],\n",
       "  'usb': [{'model': 'nec-xhci', 'order': 0}],\n",
       "  'scsi': [],\n",
       "  'sata': [{}]},\n",
       " 'cpu_topology': {'cpu_map': {},\n",
       "  'cpu_model': 'default',\n",
       "  'cpu_count': 1,\n",
       "  'cpu_cores': 1,\n",
       "  'cpu_mode': 'default',\n",
       "  'cpu_threads': 1,\n",
       "  'cpu_priority': 10,\n",
       "  'cpu_sockets': 1,\n",
       "  'cpu_count_max': 1},\n",
       " 'ha_retrycount': 5,\n",
       " 'sound': {'model': 'ich6', 'codec': 'micro'},\n",
       " 'cluster': '9426f751-dd79-406a-bfee-5b4538510535',\n",
       " 'boot_type': 'LegacyMBR',\n",
       " 'video': {'type': 'cirrus', 'heads': 1, 'vram': 16384},\n",
       " 'graphics_password': '79C4KNDjpHK7EFxP',\n",
       " 'ha_enabled': False}"
      ]
     },
     "execution_count": 8,
     "metadata": {},
     "output_type": "execute_result"
    }
   ],
   "source": [
    "\n",
    "\n",
    "from vdi.tasks.vm import CreateDomain\n",
    "await CreateDomain(vm_name='ve')"
   ]
  },
  {
   "cell_type": "code",
   "execution_count": 9,
   "metadata": {},
   "outputs": [
    {
     "data": {
      "text/plain": [
       "'ve'"
      ]
     },
     "execution_count": 9,
     "metadata": {},
     "output_type": "execute_result"
    }
   ],
   "source": [
    "_['verbose_name']"
   ]
  },
  {
   "cell_type": "code",
   "execution_count": 10,
   "metadata": {},
   "outputs": [
    {
     "data": {
      "text/plain": [
       "'7d3f0351-fd06-41c6-917c-14ae4e57daf5'"
      ]
     },
     "execution_count": 10,
     "metadata": {},
     "output_type": "execute_result"
    }
   ],
   "source": [
    "__['id']"
   ]
  },
  {
   "cell_type": "code",
   "execution_count": 1,
   "metadata": {},
   "outputs": [],
   "source": [
    "\n",
    "import asyncio\n",
    "li = []\n",
    "\n",
    "async def task(i):\n",
    "    await asyncio.sleep(i)\n",
    "    print('.')\n",
    "    return i\n",
    "\n",
    "for i in range(10):\n",
    "    li.append(task(i+1))\n",
    "\n",
    "from vdi.asyncio_utils import wait\n",
    "\n"
   ]
  },
  {
   "cell_type": "code",
   "execution_count": 3,
   "metadata": {},
   "outputs": [
    {
     "name": "stdout",
     "output_type": "stream",
     "text": [
      ".\n",
      ".\n",
      ".\n",
      ".\n",
      ".\n",
      ".\n",
      ".\n",
      ".\n",
      ".\n",
      ".\n"
     ]
    },
    {
     "data": {
      "text/plain": [
       "({<Task finished coro=<task() done, defined at <ipython-input-2-f202fb4ca581>:5> result=10>,\n",
       "  <Task finished coro=<task() done, defined at <ipython-input-2-f202fb4ca581>:5> result=1>,\n",
       "  <Task finished coro=<task() done, defined at <ipython-input-2-f202fb4ca581>:5> result=2>,\n",
       "  <Task finished coro=<task() done, defined at <ipython-input-2-f202fb4ca581>:5> result=3>,\n",
       "  <Task finished coro=<task() done, defined at <ipython-input-2-f202fb4ca581>:5> result=4>,\n",
       "  <Task finished coro=<task() done, defined at <ipython-input-2-f202fb4ca581>:5> result=5>,\n",
       "  <Task finished coro=<task() done, defined at <ipython-input-2-f202fb4ca581>:5> result=6>,\n",
       "  <Task finished coro=<task() done, defined at <ipython-input-2-f202fb4ca581>:5> result=7>,\n",
       "  <Task finished coro=<task() done, defined at <ipython-input-2-f202fb4ca581>:5> result=8>,\n",
       "  <Task finished coro=<task() done, defined at <ipython-input-2-f202fb4ca581>:5> result=9>},\n",
       " set())"
      ]
     },
     "execution_count": 3,
     "metadata": {},
     "output_type": "execute_result"
    }
   ],
   "source": [
    "await asyncio.wait(li)"
   ]
  },
  {
   "cell_type": "code",
   "execution_count": 3,
   "metadata": {},
   "outputs": [
    {
     "data": {
      "text/plain": [
       "b'{\"errors\": {\"detail\": [\"\\\\u0421\\\\u0443\\\\u0449\\\\u043d\\\\u043e\\\\u0441\\\\u0442\\\\u044c \\\\u0437\\\\u0430\\\\u0431\\\\u043b\\\\u043e\\\\u043a\\\\u0438\\\\u0440\\\\u043e\\\\u0432\\\\u0430\\\\u043d\\\\u0430 \\\\u0430\\\\u043a\\\\u0442\\\\u0438\\\\u0432\\\\u043d\\\\u043e\\\\u0439 \\\\u0437\\\\u0430\\\\u0434\\\\u0430\\\\u0447\\\\u0435\\\\u0439.\"]}}'"
      ]
     },
     "execution_count": 3,
     "metadata": {},
     "output_type": "execute_result"
    }
   ],
   "source": [
    "b'{\"errors\": {\"detail\": [\"\\\\u0421\\\\u0443\\\\u0449\\\\u043d\\\\u043e\\\\u0441\\\\u0442\\\\u044c \\\\u0437\\\\u0430\\\\u0431\\\\u043b\\\\u043e\\\\u043a\\\\u0438\\\\u0440\\\\u043e\\\\u0432\\\\u0430\\\\u043d\\\\u0430 \\\\u0430\\\\u043a\\\\u0442\\\\u0438\\\\u0432\\\\u043d\\\\u043e\\\\u0439 \\\\u0437\\\\u0430\\\\u0434\\\\u0430\\\\u0447\\\\u0435\\\\u0439.\"]}}'"
   ]
  },
  {
   "cell_type": "code",
   "execution_count": 4,
   "metadata": {},
   "outputs": [
    {
     "data": {
      "text/plain": [
       "{'errors': {'detail': ['Сущность заблокирована активной задачей.']}}"
      ]
     },
     "execution_count": 4,
     "metadata": {},
     "output_type": "execute_result"
    }
   ],
   "source": [
    "eval(_)"
   ]
  },
  {
   "cell_type": "code",
   "execution_count": null,
   "metadata": {},
   "outputs": [],
   "source": []
  }
 ],
 "metadata": {
  "kernelspec": {
   "display_name": "Python 3",
   "language": "python",
   "name": "python3"
  },
  "language_info": {
   "codemirror_mode": {
    "name": "ipython",
    "version": 3
   },
   "file_extension": ".py",
   "mimetype": "text/x-python",
   "name": "python",
   "nbconvert_exporter": "python",
   "pygments_lexer": "ipython3",
   "version": "3.7.3"
  }
 },
 "nbformat": 4,
 "nbformat_minor": 2
}
