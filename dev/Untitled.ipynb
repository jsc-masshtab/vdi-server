{
 "cells": [
  {
   "cell_type": "code",
   "execution_count": 3,
   "metadata": {},
   "outputs": [
    {
     "ename": "ModuleNotFoundError",
     "evalue": "No module named 'vdi'",
     "output_type": "error",
     "traceback": [
      "\u001b[0;31m---------------------------------------------------------------------------\u001b[0m",
      "\u001b[0;31mModuleNotFoundError\u001b[0m                       Traceback (most recent call last)",
      "\u001b[0;32m<ipython-input-3-3856868bf171>\u001b[0m in \u001b[0;36m<module>\u001b[0;34m\u001b[0m\n\u001b[0;32m----> 1\u001b[0;31m \u001b[0;32mfrom\u001b[0m \u001b[0mvdi\u001b[0m \u001b[0;32mimport\u001b[0m \u001b[0mapp\u001b[0m\u001b[0;34m\u001b[0m\u001b[0;34m\u001b[0m\u001b[0m\n\u001b[0m",
      "\u001b[0;31mModuleNotFoundError\u001b[0m: No module named 'vdi'"
     ]
    }
   ],
   "source": [
    "from vdi import app"
   ]
  },
  {
   "cell_type": "code",
   "execution_count": 4,
   "metadata": {},
   "outputs": [
    {
     "ename": "ModuleNotFoundError",
     "evalue": "No module named 'vdi'",
     "output_type": "error",
     "traceback": [
      "\u001b[0;31m---------------------------------------------------------------------------\u001b[0m",
      "\u001b[0;31mModuleNotFoundError\u001b[0m                       Traceback (most recent call last)",
      "\u001b[0;32m<ipython-input-4-096c5fd64a9b>\u001b[0m in \u001b[0;36m<module>\u001b[0;34m\u001b[0m\n\u001b[0;32m----> 1\u001b[0;31m \u001b[0;32mimport\u001b[0m \u001b[0mvdi\u001b[0m\u001b[0;34m\u001b[0m\u001b[0;34m\u001b[0m\u001b[0m\n\u001b[0m",
      "\u001b[0;31mModuleNotFoundError\u001b[0m: No module named 'vdi'"
     ]
    }
   ],
   "source": [
    "import vdi"
   ]
  },
  {
   "cell_type": "code",
   "execution_count": 6,
   "metadata": {},
   "outputs": [
    {
     "name": "stdout",
     "output_type": "stream",
     "text": [
      "cached_prop.ipynb  http_client.ipynb  transaction.ipynb\n",
      "contextvar.ipynb   import_disk.ipynb  Untitled.ipynb\n",
      "graphql.ipynb\t   tasks.ipynb\t      ws.ipynb\n"
     ]
    }
   ],
   "source": [
    "!ls"
   ]
  },
  {
   "cell_type": "code",
   "execution_count": 8,
   "metadata": {},
   "outputs": [
    {
     "name": "stdout",
     "output_type": "stream",
     "text": [
      "Obtaining file:///home/pwtail/projects/vdi2\n",
      "Installing collected packages: vdi\n",
      "  Running setup.py develop for vdi\n",
      "    Complete output from command /usr/bin/python -c \"import setuptools, tokenize;__file__='/home/pwtail/projects/vdi2/setup.py';f=getattr(tokenize, 'open', open)(__file__);code=f.read().replace('\\r\\n', '\\n');f.close();exec(compile(code, __file__, 'exec'))\" develop --no-deps:\n",
      "    running develop\n",
      "    error: can't create or remove files in install directory\n",
      "    \n",
      "    The following error occurred while trying to add or remove files in the\n",
      "    installation directory:\n",
      "    \n",
      "        [Errno 13] Permission denied: '/usr/lib/python3.7/site-packages/test-easy-install-18377.write-test'\n",
      "    \n",
      "    The installation directory you specified (via --install-dir, --prefix, or\n",
      "    the distutils default setting) was:\n",
      "    \n",
      "        /usr/lib/python3.7/site-packages/\n",
      "    \n",
      "    Perhaps your account does not have write access to this directory?  If the\n",
      "    installation directory is a system-owned directory, you may need to sign in\n",
      "    as the administrator or \"root\" account.  If you do not have administrative\n",
      "    access to this machine, you may wish to choose a different installation\n",
      "    directory, preferably one that is listed in your PYTHONPATH environment\n",
      "    variable.\n",
      "    \n",
      "    For information on other options, you may wish to consult the\n",
      "    documentation at:\n",
      "    \n",
      "      https://setuptools.readthedocs.io/en/latest/easy_install.html\n",
      "    \n",
      "    Please make the appropriate changes for your system and try again.\n",
      "    \n",
      "    \n",
      "    ----------------------------------------\n",
      "\u001b[31mCommand \"/usr/bin/python -c \"import setuptools, tokenize;__file__='/home/pwtail/projects/vdi2/setup.py';f=getattr(tokenize, 'open', open)(__file__);code=f.read().replace('\\r\\n', '\\n');f.close();exec(compile(code, __file__, 'exec'))\" develop --no-deps\" failed with error code 1 in /home/pwtail/projects/vdi2/\u001b[0m\n"
     ]
    }
   ],
   "source": [
    "!pip install -e .."
   ]
  },
  {
   "cell_type": "code",
   "execution_count": null,
   "metadata": {},
   "outputs": [],
   "source": []
  }
 ],
 "metadata": {
  "kernelspec": {
   "display_name": "Python 3",
   "language": "python",
   "name": "python3"
  },
  "language_info": {
   "codemirror_mode": {
    "name": "ipython",
    "version": 3
   },
   "file_extension": ".py",
   "mimetype": "text/x-python",
   "name": "python",
   "nbconvert_exporter": "python",
   "pygments_lexer": "ipython3",
   "version": "3.7.2"
  }
 },
 "nbformat": 4,
 "nbformat_minor": 2
}
