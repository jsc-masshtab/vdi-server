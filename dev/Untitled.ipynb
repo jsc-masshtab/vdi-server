{
 "cells": [
  {
   "cell_type": "code",
   "execution_count": 1,
   "metadata": {},
   "outputs": [],
   "source": [
    "from vdi.settings import settings\n",
    "\n",
    "CONTROLLER_IP = settings['controller_ip']\n",
    "\n",
    "from dataclasses import dataclass\n",
    "from g_tasks import Task, g\n",
    "\n",
    "from vdi.tasks import Token, disk\n",
    "from vdi.tasks.ws import WsConnection\n",
    "from vdi.tasks.client import HttpClient\n",
    "\n",
    "import urllib, json\n",
    "\n",
    "class Node(Task):\n",
    "\n",
    "    async def run(self):\n",
    "        datapool = await disk.DefaultDatapool()\n",
    "        nodes = datapool['nodes_connected']\n",
    "        if len(nodes) == 1:\n",
    "            [node] = nodes\n",
    "            if node['connection_status'] == 'SUCCESS':\n",
    "                return node['id']\n",
    "\n",
    "\n",
    "@dataclass()\n",
    "class CreateDomain(Task):\n",
    "\n",
    "    vm_name: str\n",
    "\n",
    "    url = f'http://{CONTROLLER_IP}/api/domains/'\n",
    "\n",
    "    async def params(self):\n",
    "        node_id = await Node()\n",
    "        return {\n",
    "            'cpu_count': 1,\n",
    "            'cpu_priority': \"10\",\n",
    "            'memory_count': 1024,\n",
    "            'node': node_id,\n",
    "            'os_type': \"Other\",\n",
    "            'sound': {'model': \"ich6\", 'codec': \"micro\"},\n",
    "            'verbose_name': self.vm_name,\n",
    "            'video': {'type': \"cirrus\", 'vram': \"16384\", 'heads': \"1\"},\n",
    "        }\n",
    "\n",
    "    def is_done(self, msg):\n",
    "        obj = msg['object']\n",
    "        if not obj['status'] == 'SUCCESS':\n",
    "            return\n",
    "        for id, e in obj['entities'].items():\n",
    "            if e == 'domain':\n",
    "                return id == self.domain['id']\n",
    "\n",
    "    async def run(self):\n",
    "        token = await Token()\n",
    "        headers = {\n",
    "            'Authorization': f'jwt {token}'\n",
    "        }\n",
    "        ws = await WsConnection()\n",
    "#         await ws.send('add /tasks/')\n",
    "        http_client = HttpClient()\n",
    "        params = await self.params()\n",
    "        body = urllib.parse.urlencode(params)\n",
    "        response = await http_client.fetch(self.url, method='POST', headers=headers, body=body)\n",
    "        self.domain = json.loads(response.body)\n",
    "        print(f\"fetched: {self.domain['id']}\")\n",
    "        await ws.wait_message(self.is_done)\n",
    "        return self.domain\n"
   ]
  },
  {
   "cell_type": "code",
   "execution_count": 2,
   "metadata": {},
   "outputs": [
    {
     "name": "stdout",
     "output_type": "stream",
     "text": [
      "fetched: 721da87e-e8a5-4c73-a3a2-66fb3860db75\n"
     ]
    },
    {
     "ename": "WsTimeout",
     "evalue": "",
     "output_type": "error",
     "traceback": [
      "\u001b[0;31m---------------------------------------------------------------------------\u001b[0m",
      "\u001b[0;31mWsTimeout\u001b[0m                                 Traceback (most recent call last)",
      "\u001b[0;32m<ipython-input-2-39ff88304f90>\u001b[0m in \u001b[0;36masync-def-wrapper\u001b[0;34m()\u001b[0m\n",
      "\u001b[0;32m<ipython-input-1-5d8105f81e69>\u001b[0m in \u001b[0;36mrun\u001b[0;34m(self)\u001b[0m\n\u001b[1;32m     64\u001b[0m         \u001b[0mself\u001b[0m\u001b[0;34m.\u001b[0m\u001b[0mdomain\u001b[0m \u001b[0;34m=\u001b[0m \u001b[0mjson\u001b[0m\u001b[0;34m.\u001b[0m\u001b[0mloads\u001b[0m\u001b[0;34m(\u001b[0m\u001b[0mresponse\u001b[0m\u001b[0;34m.\u001b[0m\u001b[0mbody\u001b[0m\u001b[0;34m)\u001b[0m\u001b[0;34m\u001b[0m\u001b[0;34m\u001b[0m\u001b[0m\n\u001b[1;32m     65\u001b[0m         \u001b[0mprint\u001b[0m\u001b[0;34m(\u001b[0m\u001b[0;34mf\"fetched: {self.domain['id']}\"\u001b[0m\u001b[0;34m)\u001b[0m\u001b[0;34m\u001b[0m\u001b[0;34m\u001b[0m\u001b[0m\n\u001b[0;32m---> 66\u001b[0;31m         \u001b[0;32mawait\u001b[0m \u001b[0mws\u001b[0m\u001b[0;34m.\u001b[0m\u001b[0mwait_message\u001b[0m\u001b[0;34m(\u001b[0m\u001b[0mself\u001b[0m\u001b[0;34m.\u001b[0m\u001b[0mis_done\u001b[0m\u001b[0;34m)\u001b[0m\u001b[0;34m\u001b[0m\u001b[0;34m\u001b[0m\u001b[0m\n\u001b[0m\u001b[1;32m     67\u001b[0m         \u001b[0;32mreturn\u001b[0m \u001b[0mself\u001b[0m\u001b[0;34m.\u001b[0m\u001b[0mdomain\u001b[0m\u001b[0;34m\u001b[0m\u001b[0;34m\u001b[0m\u001b[0m\n",
      "\u001b[0;32m~/projects/vdi2/vdi/tasks/ws.py\u001b[0m in \u001b[0;36mwait_message\u001b[0;34m(self, match_func, timeout)\u001b[0m\n\u001b[1;32m     38\u001b[0m             \u001b[0;32mif\u001b[0m \u001b[0mhasattr\u001b[0m\u001b[0;34m(\u001b[0m\u001b[0mtask\u001b[0m\u001b[0;34m,\u001b[0m \u001b[0;34m'i_am_timeout'\u001b[0m\u001b[0;34m)\u001b[0m\u001b[0;34m:\u001b[0m\u001b[0;34m\u001b[0m\u001b[0;34m\u001b[0m\u001b[0m\n\u001b[1;32m     39\u001b[0m                 \u001b[0mws_task\u001b[0m\u001b[0;34m.\u001b[0m\u001b[0mcancel\u001b[0m\u001b[0;34m(\u001b[0m\u001b[0;34m)\u001b[0m\u001b[0;34m\u001b[0m\u001b[0;34m\u001b[0m\u001b[0m\n\u001b[0;32m---> 40\u001b[0;31m                 \u001b[0;32mraise\u001b[0m \u001b[0mWsTimeout\u001b[0m\u001b[0;34m\u001b[0m\u001b[0;34m\u001b[0m\u001b[0m\n\u001b[0m\u001b[1;32m     41\u001b[0m             \u001b[0;32mreturn\u001b[0m \u001b[0mresult\u001b[0m\u001b[0;34m\u001b[0m\u001b[0;34m\u001b[0m\u001b[0m\n\u001b[1;32m     42\u001b[0m \u001b[0;34m\u001b[0m\u001b[0m\n",
      "\u001b[0;31mWsTimeout\u001b[0m: "
     ]
    }
   ],
   "source": [
    "\n",
    "await CreateDomain(vm_name='kviyam')"
   ]
  },
  {
   "cell_type": "code",
   "execution_count": 1,
   "metadata": {},
   "outputs": [],
   "source": [
    "from vdi.asyncio_utils import Wait\n",
    "\n",
    "import asyncio\n",
    "t1 = asyncio.create_task(asyncio.sleep(1))\n",
    "t2 = asyncio.create_task(asyncio.sleep(2))\n",
    "\n",
    "vals = []\n",
    "\n",
    "async for r, t in Wait(t1, t2).items():\n",
    "    vals.append((r, t))"
   ]
  },
  {
   "cell_type": "code",
   "execution_count": 3,
   "metadata": {},
   "outputs": [
    {
     "data": {
      "text/plain": [
       "LookupError(<ContextVar name='tasks' at 0x7f441421f678>)"
      ]
     },
     "execution_count": 3,
     "metadata": {},
     "output_type": "execute_result"
    }
   ],
   "source": [
    "import sys\n",
    "sys.last_value\n"
   ]
  },
  {
   "cell_type": "code",
   "execution_count": 4,
   "metadata": {},
   "outputs": [
    {
     "data": {
      "text/plain": [
       "LookupError"
      ]
     },
     "execution_count": 4,
     "metadata": {},
     "output_type": "execute_result"
    }
   ],
   "source": [
    "_.__class__"
   ]
  },
  {
   "cell_type": "code",
   "execution_count": 5,
   "metadata": {},
   "outputs": [
    {
     "data": {
      "text/plain": [
       "'builtins'"
      ]
     },
     "execution_count": 5,
     "metadata": {},
     "output_type": "execute_result"
    }
   ],
   "source": [
    "_.__module__\n"
   ]
  },
  {
   "cell_type": "code",
   "execution_count": 11,
   "metadata": {},
   "outputs": [
    {
     "data": {
      "text/plain": [
       "<code object sleep at 0x7f8792db0d20, file \"/usr/lib64/python3.7/asyncio/tasks.py\", line 555>"
      ]
     },
     "execution_count": 11,
     "metadata": {},
     "output_type": "execute_result"
    }
   ],
   "source": [
    "_.cr_code"
   ]
  },
  {
   "cell_type": "code",
   "execution_count": null,
   "metadata": {},
   "outputs": [],
   "source": []
  }
 ],
 "metadata": {
  "kernelspec": {
   "display_name": "Python 3",
   "language": "python",
   "name": "python3"
  },
  "language_info": {
   "codemirror_mode": {
    "name": "ipython",
    "version": 3
   },
   "file_extension": ".py",
   "mimetype": "text/x-python",
   "name": "python",
   "nbconvert_exporter": "python",
   "pygments_lexer": "ipython3",
   "version": "3.7.2"
  }
 },
 "nbformat": 4,
 "nbformat_minor": 2
}
