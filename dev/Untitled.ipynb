{
 "cells": [
  {
   "cell_type": "code",
   "execution_count": 2,
   "metadata": {},
   "outputs": [],
   "source": [
    "import re\n",
    "regexp = re.compile(r'^(\\d+)(_\\w+)?.(sql|py)')"
   ]
  },
  {
   "cell_type": "code",
   "execution_count": 4,
   "metadata": {},
   "outputs": [],
   "source": [
    "regexp.match('0001.p')"
   ]
  },
  {
   "cell_type": "code",
   "execution_count": 6,
   "metadata": {},
   "outputs": [
    {
     "name": "stdout",
     "output_type": "stream",
     "text": [
      "dev\t    mi-pkg\t  setup.py\t\tVagrantfile  vdi.egg-info\n",
      "gtasks\t    Pipfile\t  tests\t\t\tvagrant.sh\n",
      "migrations  Pipfile.lock  typed_contextmanager\tvdi\n"
     ]
    }
   ],
   "source": [
    "!ls .."
   ]
  },
  {
   "cell_type": "code",
   "execution_count": 7,
   "metadata": {},
   "outputs": [],
   "source": [
    "from pathlib import Path"
   ]
  },
  {
   "cell_type": "code",
   "execution_count": 8,
   "metadata": {},
   "outputs": [
    {
     "data": {
      "text/plain": [
       "PosixPath('../migrations')"
      ]
     },
     "execution_count": 8,
     "metadata": {},
     "output_type": "execute_result"
    }
   ],
   "source": [
    "Path('../migrations')"
   ]
  },
  {
   "cell_type": "code",
   "execution_count": 16,
   "metadata": {},
   "outputs": [
    {
     "data": {
      "text/plain": [
       "[]"
      ]
     },
     "execution_count": 16,
     "metadata": {},
     "output_type": "execute_result"
    }
   ],
   "source": [
    "\n",
    "list(_8.glob('*.[sql|py]'))"
   ]
  },
  {
   "cell_type": "code",
   "execution_count": 17,
   "metadata": {},
   "outputs": [
    {
     "data": {
      "text/plain": [
       "['/home/pwtail/projects/vdi2/dev',\n",
       " '/home/pwtail/.local/share/virtualenvs/vdi2-W7tVCc89/lib/python37.zip',\n",
       " '/home/pwtail/.local/share/virtualenvs/vdi2-W7tVCc89/lib/python3.7',\n",
       " '/home/pwtail/.local/share/virtualenvs/vdi2-W7tVCc89/lib/python3.7/lib-dynload',\n",
       " '/usr/lib64/python3.7',\n",
       " '/usr/lib/python3.7',\n",
       " '',\n",
       " '/home/pwtail/.local/share/virtualenvs/vdi2-W7tVCc89/lib/python3.7/site-packages',\n",
       " '/home/pwtail/projects/vdi2',\n",
       " '/home/pwtail/projects/vdi2/gtasks',\n",
       " '/home/pwtail/projects/vdi2/typed_contextmanager',\n",
       " '/home/pwtail/projects/vdi2/mi-pkg',\n",
       " '/home/pwtail/.local/share/virtualenvs/vdi2-W7tVCc89/lib/python3.7/site-packages/IPython/extensions',\n",
       " '/home/pwtail/.ipython']"
      ]
     },
     "execution_count": 17,
     "metadata": {},
     "output_type": "execute_result"
    }
   ],
   "source": [
    "import sys\n",
    "sys.path"
   ]
  },
  {
   "cell_type": "code",
   "execution_count": 18,
   "metadata": {},
   "outputs": [
    {
     "ename": "ModuleNotFoundError",
     "evalue": "No module named 'hey'",
     "output_type": "error",
     "traceback": [
      "\u001b[0;31m---------------------------------------------------------------------------\u001b[0m",
      "\u001b[0;31mModuleNotFoundError\u001b[0m                       Traceback (most recent call last)",
      "\u001b[0;32m<ipython-input-18-b76a51bf46d2>\u001b[0m in \u001b[0;36m<module>\u001b[0;34m\u001b[0m\n\u001b[0;32m----> 1\u001b[0;31m \u001b[0;32mimport\u001b[0m \u001b[0mhey\u001b[0m\u001b[0;34m\u001b[0m\u001b[0;34m\u001b[0m\u001b[0m\n\u001b[0m",
      "\u001b[0;31mModuleNotFoundError\u001b[0m: No module named 'hey'"
     ]
    }
   ],
   "source": [
    "import hey"
   ]
  },
  {
   "cell_type": "code",
   "execution_count": 23,
   "metadata": {},
   "outputs": [],
   "source": [
    "sys.path.insert(0, '/home/pwtail/projects/vdi2/migrations')"
   ]
  },
  {
   "cell_type": "code",
   "execution_count": 24,
   "metadata": {},
   "outputs": [
    {
     "data": {
      "text/plain": [
       "['/home/pwtail/projects/vdi2/migrations',\n",
       " 'migrations',\n",
       " '/home/pwtail/projects/vdi2/dev',\n",
       " '/home/pwtail/.local/share/virtualenvs/vdi2-W7tVCc89/lib/python37.zip',\n",
       " '/home/pwtail/.local/share/virtualenvs/vdi2-W7tVCc89/lib/python3.7',\n",
       " '/home/pwtail/.local/share/virtualenvs/vdi2-W7tVCc89/lib/python3.7/lib-dynload',\n",
       " '/usr/lib64/python3.7',\n",
       " '/usr/lib/python3.7',\n",
       " '',\n",
       " '/home/pwtail/.local/share/virtualenvs/vdi2-W7tVCc89/lib/python3.7/site-packages',\n",
       " '/home/pwtail/projects/vdi2',\n",
       " '/home/pwtail/projects/vdi2/gtasks',\n",
       " '/home/pwtail/projects/vdi2/typed_contextmanager',\n",
       " '/home/pwtail/projects/vdi2/mi-pkg',\n",
       " '/home/pwtail/.local/share/virtualenvs/vdi2-W7tVCc89/lib/python3.7/site-packages/IPython/extensions',\n",
       " '/home/pwtail/.ipython']"
      ]
     },
     "execution_count": 24,
     "metadata": {},
     "output_type": "execute_result"
    }
   ],
   "source": [
    "sys.path"
   ]
  },
  {
   "cell_type": "code",
   "execution_count": 25,
   "metadata": {},
   "outputs": [],
   "source": [
    "import hey"
   ]
  },
  {
   "cell_type": "code",
   "execution_count": 1,
   "metadata": {},
   "outputs": [],
   "source": [
    "from vdi.tasks import admin"
   ]
  },
  {
   "cell_type": "code",
   "execution_count": 2,
   "metadata": {},
   "outputs": [],
   "source": [
    "from g_tasks import g"
   ]
  },
  {
   "cell_type": "code",
   "execution_count": 3,
   "metadata": {},
   "outputs": [],
   "source": [
    "g.use_threadlocal(1)"
   ]
  },
  {
   "cell_type": "code",
   "execution_count": 4,
   "metadata": {},
   "outputs": [],
   "source": [
    "await admin.AddNode()"
   ]
  },
  {
   "cell_type": "code",
   "execution_count": 1,
   "metadata": {},
   "outputs": [],
   "source": [
    "url = 'https://bootstrap.pypa.io/get-pip.py'"
   ]
  },
  {
   "cell_type": "code",
   "execution_count": 2,
   "metadata": {},
   "outputs": [],
   "source": [
    "from vdi.tasks import admin\n",
    "from g_tasks import g\n",
    "g.use_threadlocal(1)"
   ]
  },
  {
   "cell_type": "code",
   "execution_count": 3,
   "metadata": {},
   "outputs": [],
   "source": [
    "await admin.DownloadDiskImage(\n",
    "    url=url, out='py'\n",
    ")"
   ]
  },
  {
   "cell_type": "code",
   "execution_count": 4,
   "metadata": {},
   "outputs": [
    {
     "name": "stdout",
     "output_type": "stream",
     "text": [
      "cached_prop.ipynb  http_client.ipynb  tasks.ipynb\t ws.ipynb\n",
      "contextvar.ipynb   import_disk.ipynb  transaction.ipynb\n",
      "graphql.ipynb\t   py\t\t      Untitled.ipynb\n"
     ]
    }
   ],
   "source": [
    "!ls"
   ]
  },
  {
   "cell_type": "code",
   "execution_count": 5,
   "metadata": {},
   "outputs": [],
   "source": [
    "!code py"
   ]
  },
  {
   "cell_type": "code",
   "execution_count": null,
   "metadata": {},
   "outputs": [],
   "source": []
  }
 ],
 "metadata": {
  "kernelspec": {
   "display_name": "Python 3",
   "language": "python",
   "name": "python3"
  },
  "language_info": {
   "codemirror_mode": {
    "name": "ipython",
    "version": 3
   },
   "file_extension": ".py",
   "mimetype": "text/x-python",
   "name": "python",
   "nbconvert_exporter": "python",
   "pygments_lexer": "ipython3",
   "version": "3.7.2"
  }
 },
 "nbformat": 4,
 "nbformat_minor": 2
}
