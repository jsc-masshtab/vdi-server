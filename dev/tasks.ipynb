{
 "cells": [
  {
   "cell_type": "code",
   "execution_count": 2,
   "metadata": {},
   "outputs": [],
   "source": [
    "from g_tasks import g\n",
    "from vdi.tasks import *"
   ]
  },
  {
   "cell_type": "code",
   "execution_count": 4,
   "metadata": {},
   "outputs": [
    {
     "data": {
      "text/plain": [
       "{'verbose_name': 'disco-219aa480',\n",
       " 'remote_access_white_list': [],\n",
       " 'usb_devices': [],\n",
       " 'user_power_state': 1,\n",
       " 'ha_boot_order': 1,\n",
       " 'pci_devices': [],\n",
       " 'controllers': {'ide': [{}],\n",
       "  'usb': [{'order': 0, 'model': 'nec-xhci'}],\n",
       "  'sata': [{}],\n",
       "  'pci': [{'order': 0, 'model': 'pci-root'},\n",
       "   {'order': 1, 'model': 'pci-bridge'}],\n",
       "  'scsi': []},\n",
       " 'uptime_total': 0,\n",
       " 'uptime_on_current_node': {'start_time': 0, 'uptime': 0},\n",
       " 'clean_type': 'zero',\n",
       " 'clean_count': 1,\n",
       " 'os_type': 'Other',\n",
       " 'ha_timeout': 60,\n",
       " 'boot_type': 'LegacyMBR',\n",
       " 'owners': [],\n",
       " 'current_state': None,\n",
       " 'service_module': False,\n",
       " 'ha_retrycount': 5,\n",
       " 'sound': {'model': 'ich6', 'codec': 'micro'},\n",
       " 'graphics_password': '2dmzUoWDbaEEGlWQ',\n",
       " 'id': '3f076559-b9c6-4d31-93c2-82cce4e8882c',\n",
       " 'cluster': '23b395af-13da-424b-a9a6-8b94046da151',\n",
       " 'bootmenu': False,\n",
       " 'applied_snapshot': None,\n",
       " 'ha_nodepolicy': [],\n",
       " 'cpu_topology': {'cpu_model': 'default',\n",
       "  'cpu_map': {},\n",
       "  'cpu_sockets': 1,\n",
       "  'cpu_count_max': 1,\n",
       "  'cpu_threads': 1,\n",
       "  'cpu_count': 1,\n",
       "  'cpu_mode': 'default',\n",
       "  'cpu_priority': 10,\n",
       "  'cpu_cores': 1},\n",
       " 'hints': 0,\n",
       " 'permissions': {'snapshots_tree': True,\n",
       "  'migrate': True,\n",
       "  'reboot': True,\n",
       "  'detach_usb': True,\n",
       "  'attach_vdisk': True,\n",
       "  'multi_create_domain': True,\n",
       "  'remove': True,\n",
       "  'detach_iso': True,\n",
       "  'safety': True,\n",
       "  'update_boot': True,\n",
       "  'update_ha_options': True,\n",
       "  'attach_pci': True,\n",
       "  'detach_pci': True,\n",
       "  'set_owners': True,\n",
       "  'attach_lun': True,\n",
       "  'update_disastery_options': True,\n",
       "  'shutdown': True,\n",
       "  'start': True,\n",
       "  'suspend': True,\n",
       "  'update': True,\n",
       "  'detach_lun': True,\n",
       "  'detach_vdisk': True,\n",
       "  'update_controllers': True,\n",
       "  'update_video_device': True,\n",
       "  'resume': True,\n",
       "  'attach_iso': True,\n",
       "  'attach_usb': True,\n",
       "  'snapshots_info': True,\n",
       "  'remote_access': True,\n",
       "  'update_sound_device': True,\n",
       "  'update_resources': True,\n",
       "  'recover': True,\n",
       "  'spice': True},\n",
       " 'description': '',\n",
       " 'bootmenu_timeout': 3,\n",
       " 'safety': False,\n",
       " 'ha_options_cluster_sync': True,\n",
       " 'remote_access_port': None,\n",
       " 'created': '2019-03-01T11:00:59.111747Z',\n",
       " 'locked_by': '1ca4de2b-905b-426a-9816-738c3e607ecb',\n",
       " 'ha_enabled': False,\n",
       " 'ha_autoselect': False,\n",
       " 'os_defaults': {'sound': {'model': 'ich6', 'codec': 'micro'},\n",
       "  'video': {'type': 'cirrus'},\n",
       "  'controllers': {'vdisk': {'target_bus': None},\n",
       "   'vinterface': {'nic_driver': None}}},\n",
       " 'remote_access_allow_all': True,\n",
       " 'node': {'id': '644016c6-43cf-43e9-b828-2f8276908648', 'verbose_name': 'n1'},\n",
       " 'cpu_type': 'Other',\n",
       " 'free_slots': {'ide': 3, 'usb': 4, 'sata': 14, 'pci': 55, 'scsi': 0},\n",
       " 'remote_access': False,\n",
       " 'modified': '2019-03-01T11:00:59.185824Z',\n",
       " 'tags': [],\n",
       " 'memory_count': 1024,\n",
       " 'video': {'vram': 16384, 'type': 'cirrus', 'heads': 1},\n",
       " 'disastery_enabled': False,\n",
       " 'status': 'ACTIVE'}"
      ]
     },
     "execution_count": 4,
     "metadata": {},
     "output_type": "execute_result"
    }
   ],
   "source": [
    "g.init()\n",
    "await vm.SetupDomain(image_name='disco')"
   ]
  },
  {
   "cell_type": "code",
   "execution_count": 12,
   "metadata": {},
   "outputs": [],
   "source": [
    "from dataclasses import dataclass\n",
    "\n",
    "@dataclass()\n",
    "class A:\n",
    "    x: int\n",
    "    y: str\n",
    "        \n",
    "    def __init__(self, *args, **kw):\n",
    "        self.x = args[0]\n",
    "        self.y = args[1]\n",
    "    "
   ]
  },
  {
   "cell_type": "code",
   "execution_count": 13,
   "metadata": {},
   "outputs": [
    {
     "data": {
      "text/plain": [
       "A(x=1, y='1')"
      ]
     },
     "execution_count": 13,
     "metadata": {},
     "output_type": "execute_result"
    }
   ],
   "source": [
    "A(1, '1')"
   ]
  },
  {
   "cell_type": "code",
   "execution_count": null,
   "metadata": {},
   "outputs": [],
   "source": []
  }
 ],
 "metadata": {
  "kernelspec": {
   "display_name": "Python 3",
   "language": "python",
   "name": "python3"
  },
  "language_info": {
   "codemirror_mode": {
    "name": "ipython",
    "version": 3
   },
   "file_extension": ".py",
   "mimetype": "text/x-python",
   "name": "python",
   "nbconvert_exporter": "python",
   "pygments_lexer": "ipython3",
   "version": "3.7.2"
  }
 },
 "nbformat": 4,
 "nbformat_minor": 2
}
