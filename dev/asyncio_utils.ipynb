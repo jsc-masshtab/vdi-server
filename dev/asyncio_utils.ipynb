{
 "cells": [
  {
   "cell_type": "code",
   "execution_count": 1,
   "metadata": {},
   "outputs": [],
   "source": [
    "import asyncio\n",
    "\n",
    "loop = asyncio.events.get_event_loop()\n"
   ]
  },
  {
   "cell_type": "code",
   "execution_count": 1,
   "metadata": {},
   "outputs": [
    {
     "name": "stdout",
     "output_type": "stream",
     "text": [
      ".qcow2 image is downloaded.\n",
      "Node 192.168.20.121 is added.\n",
      "File upload finished.\n"
     ]
    }
   ],
   "source": [
    "from vdi.asyncio_utils import timeout\n",
    "\n",
    "from g_tasks import g, Task\n",
    "import asyncio\n",
    "\n",
    "\n",
    "\n",
    "\n",
    "from prepare import main\n",
    "await main()\n",
    "\n"
   ]
  },
  {
   "cell_type": "code",
   "execution_count": 1,
   "metadata": {},
   "outputs": [],
   "source": [
    "from vdi.pool import Pool\n",
    "\n",
    "dic = {\n",
    "    'id': 5,\n",
    "    'template_id': \"5c4f2881-d0d3-4e25-9155-683328443134\",\n",
    "    'name': 'bb',\n",
    "    'initial_size': 2,\n",
    "    'reserve_size': 2,\n",
    "}\n",
    "pool = Pool(params=dic)"
   ]
  },
  {
   "cell_type": "code",
   "execution_count": 7,
   "metadata": {},
   "outputs": [
    {
     "ename": "FetchException",
     "evalue": "b'{\"errors\": {\"detail\": [\"\\\\u0421\\\\u0443\\\\u0449\\\\u043d\\\\u043e\\\\u0441\\\\u0442\\\\u044c \\\\u0437\\\\u0430\\\\u0431\\\\u043b\\\\u043e\\\\u043a\\\\u0438\\\\u0440\\\\u043e\\\\u0432\\\\u0430\\\\u043d\\\\u0430 \\\\u0430\\\\u043a\\\\u0442\\\\u0438\\\\u0432\\\\u043d\\\\u043e\\\\u0439 \\\\u0437\\\\u0430\\\\u0434\\\\u0430\\\\u0447\\\\u0435\\\\u0439.\"]}}'",
     "output_type": "error",
     "traceback": [
      "\u001b[0;31m---------------------------------------------------------------------------\u001b[0m",
      "\u001b[0;31mHTTPClientError\u001b[0m                           Traceback (most recent call last)",
      "\u001b[0;32m~/projects/vdiserver/vdi/tasks/client.py\u001b[0m in \u001b[0;36mfetch\u001b[0;34m(self, *args, **kwargs)\u001b[0m\n\u001b[1;32m     73\u001b[0m         \u001b[0;32mtry\u001b[0m\u001b[0;34m:\u001b[0m\u001b[0;34m\u001b[0m\u001b[0;34m\u001b[0m\u001b[0m\n\u001b[0;32m---> 74\u001b[0;31m             \u001b[0mresponse\u001b[0m \u001b[0;34m=\u001b[0m \u001b[0;32mawait\u001b[0m \u001b[0mself\u001b[0m\u001b[0;34m.\u001b[0m\u001b[0m_client\u001b[0m\u001b[0;34m.\u001b[0m\u001b[0mfetch\u001b[0m\u001b[0;34m(\u001b[0m\u001b[0;34m*\u001b[0m\u001b[0margs\u001b[0m\u001b[0;34m,\u001b[0m \u001b[0;34m**\u001b[0m\u001b[0mkwargs\u001b[0m\u001b[0;34m)\u001b[0m\u001b[0;34m\u001b[0m\u001b[0;34m\u001b[0m\u001b[0m\n\u001b[0m\u001b[1;32m     75\u001b[0m         \u001b[0;32mexcept\u001b[0m \u001b[0mHTTPError\u001b[0m \u001b[0;32mas\u001b[0m \u001b[0me\u001b[0m\u001b[0;34m:\u001b[0m\u001b[0;34m\u001b[0m\u001b[0;34m\u001b[0m\u001b[0m\n",
      "\u001b[0;31mHTTPClientError\u001b[0m: HTTP 400: Bad Request",
      "\nDuring handling of the above exception, another exception occurred:\n",
      "\u001b[0;31mFetchException\u001b[0m                            Traceback (most recent call last)",
      "\u001b[0;32m<ipython-input-7-458fc8d4d733>\u001b[0m in \u001b[0;36masync-def-wrapper\u001b[0;34m()\u001b[0m\n",
      "\u001b[0;32m~/projects/vdiserver/vdi/tasks/vm.py\u001b[0m in \u001b[0;36mrun\u001b[0;34m(self)\u001b[0m\n\u001b[1;32m    154\u001b[0m         \u001b[0mdomain\u001b[0m \u001b[0;34m=\u001b[0m \u001b[0;32mawait\u001b[0m \u001b[0mCreateDomain\u001b[0m\u001b[0;34m(\u001b[0m\u001b[0mvm_name\u001b[0m\u001b[0;34m=\u001b[0m\u001b[0mself\u001b[0m\u001b[0;34m.\u001b[0m\u001b[0mvm_name\u001b[0m\u001b[0;34m)\u001b[0m\u001b[0;34m\u001b[0m\u001b[0;34m\u001b[0m\u001b[0m\n\u001b[1;32m    155\u001b[0m         \u001b[0mvdisk\u001b[0m \u001b[0;34m=\u001b[0m \u001b[0;32mawait\u001b[0m \u001b[0mdisk\u001b[0m\u001b[0;34m.\u001b[0m\u001b[0mCopyDisk\u001b[0m\u001b[0;34m(\u001b[0m\u001b[0mvdisk\u001b[0m\u001b[0;34m=\u001b[0m\u001b[0mvdisk0\u001b[0m\u001b[0;34m,\u001b[0m \u001b[0mverbose_name\u001b[0m\u001b[0;34m=\u001b[0m\u001b[0mdomain\u001b[0m\u001b[0;34m[\u001b[0m\u001b[0;34m'verbose_name'\u001b[0m\u001b[0;34m]\u001b[0m\u001b[0;34m)\u001b[0m\u001b[0;34m\u001b[0m\u001b[0;34m\u001b[0m\u001b[0m\n\u001b[0;32m--> 156\u001b[0;31m         \u001b[0;32mawait\u001b[0m \u001b[0mAttachVdisk\u001b[0m\u001b[0;34m(\u001b[0m\u001b[0mdomain_id\u001b[0m\u001b[0;34m=\u001b[0m\u001b[0mdomain\u001b[0m\u001b[0;34m[\u001b[0m\u001b[0;34m'id'\u001b[0m\u001b[0;34m]\u001b[0m\u001b[0;34m,\u001b[0m \u001b[0mvdisk\u001b[0m\u001b[0;34m=\u001b[0m\u001b[0mvdisk\u001b[0m\u001b[0;34m)\u001b[0m\u001b[0;34m\u001b[0m\u001b[0;34m\u001b[0m\u001b[0m\n\u001b[0m\u001b[1;32m    157\u001b[0m         \u001b[0;32mreturn\u001b[0m \u001b[0mdomain\u001b[0m\u001b[0;34m\u001b[0m\u001b[0;34m\u001b[0m\u001b[0m\n\u001b[1;32m    158\u001b[0m \u001b[0;34m\u001b[0m\u001b[0m\n",
      "\u001b[0;32m~/projects/vdiserver/vdi/tasks/vm.py\u001b[0m in \u001b[0;36mrun\u001b[0;34m(self)\u001b[0m\n\u001b[1;32m    108\u001b[0m             \u001b[0;34m'Authorization'\u001b[0m\u001b[0;34m:\u001b[0m \u001b[0;34mf'jwt {token}'\u001b[0m\u001b[0;34m\u001b[0m\u001b[0;34m\u001b[0m\u001b[0m\n\u001b[1;32m    109\u001b[0m         }\n\u001b[0;32m--> 110\u001b[0;31m         \u001b[0mself\u001b[0m\u001b[0;34m.\u001b[0m\u001b[0mresponse\u001b[0m \u001b[0;34m=\u001b[0m \u001b[0;32mawait\u001b[0m \u001b[0mHttpClient\u001b[0m\u001b[0;34m(\u001b[0m\u001b[0;34m)\u001b[0m\u001b[0;34m.\u001b[0m\u001b[0mfetch_using\u001b[0m\u001b[0;34m(\u001b[0m\u001b[0mself\u001b[0m\u001b[0;34m,\u001b[0m \u001b[0mheaders\u001b[0m\u001b[0;34m=\u001b[0m\u001b[0mheaders\u001b[0m\u001b[0;34m)\u001b[0m\u001b[0;34m\u001b[0m\u001b[0;34m\u001b[0m\u001b[0m\n\u001b[0m\u001b[1;32m    111\u001b[0m         \u001b[0;32mawait\u001b[0m \u001b[0mws\u001b[0m\u001b[0;34m.\u001b[0m\u001b[0mwait_message\u001b[0m\u001b[0;34m(\u001b[0m\u001b[0mself\u001b[0m\u001b[0;34m.\u001b[0m\u001b[0mis_done\u001b[0m\u001b[0;34m)\u001b[0m\u001b[0;34m\u001b[0m\u001b[0;34m\u001b[0m\u001b[0m\n\u001b[1;32m    112\u001b[0m         \u001b[0;32mreturn\u001b[0m \u001b[0;32mTrue\u001b[0m\u001b[0;34m\u001b[0m\u001b[0;34m\u001b[0m\u001b[0m\n",
      "\u001b[0;32m~/projects/vdiserver/vdi/tasks/client.py\u001b[0m in \u001b[0;36mfetch_using\u001b[0;34m(self, ns, **dic)\u001b[0m\n\u001b[1;32m     65\u001b[0m                 \u001b[0mdic\u001b[0m\u001b[0;34m[\u001b[0m\u001b[0mname\u001b[0m\u001b[0;34m]\u001b[0m \u001b[0;34m=\u001b[0m \u001b[0mmethod\u001b[0m\u001b[0;34m\u001b[0m\u001b[0;34m\u001b[0m\u001b[0m\n\u001b[1;32m     66\u001b[0m         \u001b[0murl\u001b[0m \u001b[0;34m=\u001b[0m \u001b[0mdic\u001b[0m\u001b[0;34m.\u001b[0m\u001b[0mpop\u001b[0m\u001b[0;34m(\u001b[0m\u001b[0;34m'url'\u001b[0m\u001b[0;34m)\u001b[0m\u001b[0;34m\u001b[0m\u001b[0;34m\u001b[0m\u001b[0m\n\u001b[0;32m---> 67\u001b[0;31m         \u001b[0;32mreturn\u001b[0m \u001b[0;32mawait\u001b[0m \u001b[0mself\u001b[0m\u001b[0;34m.\u001b[0m\u001b[0mfetch\u001b[0m\u001b[0;34m(\u001b[0m\u001b[0murl\u001b[0m\u001b[0;34m,\u001b[0m \u001b[0;34m**\u001b[0m\u001b[0mdic\u001b[0m\u001b[0;34m)\u001b[0m\u001b[0;34m\u001b[0m\u001b[0;34m\u001b[0m\u001b[0m\n\u001b[0m\u001b[1;32m     68\u001b[0m \u001b[0;34m\u001b[0m\u001b[0m\n\u001b[1;32m     69\u001b[0m \u001b[0;34m\u001b[0m\u001b[0m\n",
      "\u001b[0;32m~/projects/vdiserver/vdi/tasks/client.py\u001b[0m in \u001b[0;36mfetch\u001b[0;34m(self, *args, **kwargs)\u001b[0m\n\u001b[1;32m     75\u001b[0m         \u001b[0;32mexcept\u001b[0m \u001b[0mHTTPError\u001b[0m \u001b[0;32mas\u001b[0m \u001b[0me\u001b[0m\u001b[0;34m:\u001b[0m\u001b[0;34m\u001b[0m\u001b[0;34m\u001b[0m\u001b[0m\n\u001b[1;32m     76\u001b[0m             \u001b[0mval\u001b[0m \u001b[0;34m=\u001b[0m \u001b[0me\u001b[0m\u001b[0;34m.\u001b[0m\u001b[0mresponse\u001b[0m\u001b[0;34m.\u001b[0m\u001b[0mbuffer\u001b[0m\u001b[0;34m.\u001b[0m\u001b[0mread\u001b[0m\u001b[0;34m(\u001b[0m\u001b[0;34m)\u001b[0m\u001b[0;34m\u001b[0m\u001b[0;34m\u001b[0m\u001b[0m\n\u001b[0;32m---> 77\u001b[0;31m             \u001b[0;32mraise\u001b[0m \u001b[0mFetchException\u001b[0m\u001b[0;34m(\u001b[0m\u001b[0mval\u001b[0m\u001b[0;34m)\u001b[0m\u001b[0;34m\u001b[0m\u001b[0;34m\u001b[0m\u001b[0m\n\u001b[0m\u001b[1;32m     78\u001b[0m         \u001b[0;32mif\u001b[0m \u001b[0mself\u001b[0m\u001b[0;34m.\u001b[0m\u001b[0m_json\u001b[0m\u001b[0;34m:\u001b[0m\u001b[0;34m\u001b[0m\u001b[0;34m\u001b[0m\u001b[0m\n\u001b[1;32m     79\u001b[0m             \u001b[0mresponse\u001b[0m \u001b[0;34m=\u001b[0m \u001b[0mjson\u001b[0m\u001b[0;34m.\u001b[0m\u001b[0mloads\u001b[0m\u001b[0;34m(\u001b[0m\u001b[0mresponse\u001b[0m\u001b[0;34m.\u001b[0m\u001b[0mbody\u001b[0m\u001b[0;34m)\u001b[0m\u001b[0;34m\u001b[0m\u001b[0;34m\u001b[0m\u001b[0m\n",
      "\u001b[0;31mFetchException\u001b[0m: b'{\"errors\": {\"detail\": [\"\\\\u0421\\\\u0443\\\\u0449\\\\u043d\\\\u043e\\\\u0441\\\\u0442\\\\u044c \\\\u0437\\\\u0430\\\\u0431\\\\u043b\\\\u043e\\\\u043a\\\\u0438\\\\u0440\\\\u043e\\\\u0432\\\\u0430\\\\u043d\\\\u0430 \\\\u0430\\\\u043a\\\\u0442\\\\u0438\\\\u0432\\\\u043d\\\\u043e\\\\u0439 \\\\u0437\\\\u0430\\\\u0434\\\\u0430\\\\u0447\\\\u0435\\\\u0439.\"]}}'"
     ]
    },
    {
     "name": "stdout",
     "output_type": "stream",
     "text": [
      "b'{\"errors\": {\"detail\": [\"\\\\u0421\\\\u0443\\\\u0449\\\\u043d\\\\u043e\\\\u0441\\\\u0442\\\\u044c \\\\u0437\\\\u0430\\\\u0431\\\\u043b\\\\u043e\\\\u043a\\\\u0438\\\\u0440\\\\u043e\\\\u0432\\\\u0430\\\\u043d\\\\u0430 \\\\u0430\\\\u043a\\\\u0442\\\\u0438\\\\u0432\\\\u043d\\\\u043e\\\\u0439 \\\\u0437\\\\u0430\\\\u0434\\\\u0430\\\\u0447\\\\u0435\\\\u0439.\"]}}'\n"
     ]
    }
   ],
   "source": [
    "from vdi.db import db\n",
    "await db.init()\n",
    "\n",
    "await pool.add_domain()"
   ]
  },
  {
   "cell_type": "code",
   "execution_count": 1,
   "metadata": {},
   "outputs": [],
   "source": [
    "from vdi.tasks import disk\n",
    "from vdi.tasks.vm import CopyDomain, CreateDomain, AttachVdisk\n",
    "template_id = \"e9ca5629-9b8d-409a-a4fb-90719b73b355\"\n",
    "def makeuid():\n",
    "    import uuid\n",
    "    return str(uuid.uuid1()).split('-')[0]\n",
    "t = CopyDomain(domain_id=template_id, vm_name=f\"kvim-{makeuid()}\")"
   ]
  },
  {
   "cell_type": "code",
   "execution_count": 2,
   "metadata": {},
   "outputs": [
    {
     "name": "stdout",
     "output_type": "stream",
     "text": [
      ": {'msg': 'add', 'msg_type': 'control', 'close': False, 'resource': '/tasks/', 'error': False}\n",
      ": {'resource': '/tasks/', 'event': 'CREATED', 'id': '36426778-51f6-42d1-80e9-09f879aa95b2', 'msg_type': 'data', 'object': {'created': '2019-04-05T12:38:18.687002Z', 'is_cancellable': True, 'executed': 0, 'entities': {'a821ff06-b1a8-4837-bbe1-ed3d393b2ab7': 'node', '7af16912-cd3c-4979-acaf-e2ae77e23149': 'vdisk', 'fad4164e-1e52-4191-933c-3ec6d15f1e04': 'vdisk'}, 'id': '36426778-51f6-42d1-80e9-09f879aa95b2', 'status': 'IN_PROGRESS', 'nodes_list': ['a821ff06-b1a8-4837-bbe1-ed3d393b2ab7'], 'nodes_user_responses': [], 'progress': 0, 'name': 'Копирование виртуального диска image-0e9c4a1a на хранилище Базовый локальный пул данных узла node1.', 'user': {'username': 'admin', 'id': 1}, 'parent': None, 'error_message': '', 'is_multitask': False, 'finished_time': None}}\n",
      ": {'resource': '/tasks/', 'event': 'UPDATED', 'id': '36426778-51f6-42d1-80e9-09f879aa95b2', 'msg_type': 'data', 'object': {'created': '2019-04-05T12:38:18.687002Z', 'is_cancellable': True, 'executed': 0, 'entities': {'a821ff06-b1a8-4837-bbe1-ed3d393b2ab7': 'node', '7af16912-cd3c-4979-acaf-e2ae77e23149': 'vdisk', 'fad4164e-1e52-4191-933c-3ec6d15f1e04': 'vdisk'}, 'id': '36426778-51f6-42d1-80e9-09f879aa95b2', 'status': 'IN_PROGRESS', 'nodes_list': ['a821ff06-b1a8-4837-bbe1-ed3d393b2ab7'], 'nodes_user_responses': [], 'progress': 0, 'name': 'Копирование виртуального диска image-0e9c4a1a на хранилище Базовый локальный пул данных узла node1.', 'user': {'username': 'admin', 'id': 1}, 'parent': None, 'error_message': '', 'is_multitask': False, 'finished_time': None}}\n",
      ": {'resource': '/tasks/', 'event': 'UPDATED', 'id': '36426778-51f6-42d1-80e9-09f879aa95b2', 'msg_type': 'data', 'object': {'created': '2019-04-05T12:38:18.687002Z', 'is_cancellable': True, 'executed': 0, 'entities': {'a821ff06-b1a8-4837-bbe1-ed3d393b2ab7': 'node', '7af16912-cd3c-4979-acaf-e2ae77e23149': 'vdisk', 'fad4164e-1e52-4191-933c-3ec6d15f1e04': 'vdisk'}, 'id': '36426778-51f6-42d1-80e9-09f879aa95b2', 'status': 'IN_PROGRESS', 'nodes_list': ['a821ff06-b1a8-4837-bbe1-ed3d393b2ab7'], 'nodes_user_responses': [], 'progress': 0, 'name': 'Копирование виртуального диска image-0e9c4a1a на хранилище Базовый локальный пул данных узла node1.', 'user': {'username': 'admin', 'id': 1}, 'parent': None, 'error_message': '', 'is_multitask': False, 'finished_time': None}}\n"
     ]
    },
    {
     "name": "stderr",
     "output_type": "stream",
     "text": [
      "Task was destroyed but it is pending!\n",
      "task: <Task pending coro=<WebSocketProtocol13._receive_frame_loop() done, defined at /home/pwtail/.local/share/virtualenvs/vdiserver-lyvpkIcE/lib/python3.7/site-packages/tornado/websocket.py:1115> wait_for=<Future pending cb=[IOLoop.add_future.<locals>.<lambda>() at /home/pwtail/.local/share/virtualenvs/vdiserver-lyvpkIcE/lib/python3.7/site-packages/tornado/ioloop.py:690, <TaskWakeupMethWrapper object at 0x7fdc33514048>()]> cb=[IOLoop.add_future.<locals>.<lambda>() at /home/pwtail/.local/share/virtualenvs/vdiserver-lyvpkIcE/lib/python3.7/site-packages/tornado/ioloop.py:690]>\n"
     ]
    },
    {
     "name": "stdout",
     "output_type": "stream",
     "text": [
      ": {'resource': '/tasks/', 'event': 'UPDATED', 'id': '36426778-51f6-42d1-80e9-09f879aa95b2', 'msg_type': 'data', 'object': {'created': '2019-04-05T12:38:18.687002Z', 'is_cancellable': True, 'executed': 0, 'entities': {'a821ff06-b1a8-4837-bbe1-ed3d393b2ab7': 'node', '7af16912-cd3c-4979-acaf-e2ae77e23149': 'vdisk', 'fad4164e-1e52-4191-933c-3ec6d15f1e04': 'vdisk'}, 'id': '36426778-51f6-42d1-80e9-09f879aa95b2', 'status': 'IN_PROGRESS', 'nodes_list': ['a821ff06-b1a8-4837-bbe1-ed3d393b2ab7'], 'nodes_user_responses': [{'node_response': 'File successfully copied from /storages/local/default/fad4164e-1e52-4191-933c-3ec6d15f1e04.qcow2 to /storages/local/default/7af16912-cd3c-4979-acaf-e2ae77e23149.qcow2.', 'node_id': 'a821ff06-b1a8-4837-bbe1-ed3d393b2ab7'}], 'progress': 0, 'name': 'Копирование виртуального диска image-0e9c4a1a на хранилище Базовый локальный пул данных узла node1.', 'user': {'username': 'admin', 'id': 1}, 'parent': None, 'error_message': '', 'is_multitask': False, 'finished_time': None}}\n",
      ": {'resource': '/tasks/', 'event': 'UPDATED', 'id': '36426778-51f6-42d1-80e9-09f879aa95b2', 'msg_type': 'data', 'object': {'created': '2019-04-05T12:38:18.687002Z', 'is_cancellable': False, 'executed': '1.918404', 'entities': {'a821ff06-b1a8-4837-bbe1-ed3d393b2ab7': 'node', '7af16912-cd3c-4979-acaf-e2ae77e23149': 'vdisk', 'fad4164e-1e52-4191-933c-3ec6d15f1e04': 'vdisk'}, 'id': '36426778-51f6-42d1-80e9-09f879aa95b2', 'status': 'SUCCESS', 'nodes_list': ['a821ff06-b1a8-4837-bbe1-ed3d393b2ab7'], 'nodes_user_responses': [{'node_response': 'File successfully copied from /storages/local/default/fad4164e-1e52-4191-933c-3ec6d15f1e04.qcow2 to /storages/local/default/7af16912-cd3c-4979-acaf-e2ae77e23149.qcow2.', 'node_id': 'a821ff06-b1a8-4837-bbe1-ed3d393b2ab7'}], 'progress': 100, 'name': 'Копирование виртуального диска image-0e9c4a1a на хранилище Базовый локальный пул данных узла node1.', 'user': {'username': 'admin', 'id': 1}, 'parent': None, 'error_message': '', 'is_multitask': False, 'finished_time': '2019-04-05T12:38:20.605406Z'}}\n"
     ]
    },
    {
     "data": {
      "text/plain": [
       "True"
      ]
     },
     "execution_count": 2,
     "metadata": {},
     "output_type": "execute_result"
    }
   ],
   "source": [
    "[vdisk0] = await t.list_vdisks()\n",
    "domain = await CreateDomain(vm_name=t.vm_name)\n",
    "vdisk = await disk.CopyDisk(vdisk=vdisk0, verbose_name=domain['verbose_name'])\n",
    "import asyncio\n",
    "# await asyncio.sleep(10)\n",
    "await AttachVdisk(domain_id=domain['id'], vdisk=vdisk)"
   ]
  },
  {
   "cell_type": "code",
   "execution_count": 3,
   "metadata": {},
   "outputs": [
    {
     "name": "stdout",
     "output_type": "stream",
     "text": [
      "> \u001b[0;32m/home/pwtail/projects/vdiserver/vdi/tasks/client.py\u001b[0m(77)\u001b[0;36mfetch\u001b[0;34m()\u001b[0m\n",
      "\u001b[0;32m     75 \u001b[0;31m        \u001b[0;32mexcept\u001b[0m \u001b[0mHTTPError\u001b[0m \u001b[0;32mas\u001b[0m \u001b[0me\u001b[0m\u001b[0;34m:\u001b[0m\u001b[0;34m\u001b[0m\u001b[0;34m\u001b[0m\u001b[0m\n",
      "\u001b[0m\u001b[0;32m     76 \u001b[0;31m            \u001b[0mval\u001b[0m \u001b[0;34m=\u001b[0m \u001b[0me\u001b[0m\u001b[0;34m.\u001b[0m\u001b[0mresponse\u001b[0m\u001b[0;34m.\u001b[0m\u001b[0mbuffer\u001b[0m\u001b[0;34m.\u001b[0m\u001b[0mread\u001b[0m\u001b[0;34m(\u001b[0m\u001b[0;34m)\u001b[0m\u001b[0;34m\u001b[0m\u001b[0;34m\u001b[0m\u001b[0m\n",
      "\u001b[0m\u001b[0;32m---> 77 \u001b[0;31m            \u001b[0;32mraise\u001b[0m \u001b[0mFetchException\u001b[0m\u001b[0;34m(\u001b[0m\u001b[0mval\u001b[0m\u001b[0;34m)\u001b[0m\u001b[0;34m\u001b[0m\u001b[0;34m\u001b[0m\u001b[0m\n",
      "\u001b[0m\u001b[0;32m     78 \u001b[0;31m        \u001b[0;32mif\u001b[0m \u001b[0mself\u001b[0m\u001b[0;34m.\u001b[0m\u001b[0m_json\u001b[0m\u001b[0;34m:\u001b[0m\u001b[0;34m\u001b[0m\u001b[0;34m\u001b[0m\u001b[0m\n",
      "\u001b[0m\u001b[0;32m     79 \u001b[0;31m            \u001b[0mresponse\u001b[0m \u001b[0;34m=\u001b[0m \u001b[0mjson\u001b[0m\u001b[0;34m.\u001b[0m\u001b[0mloads\u001b[0m\u001b[0;34m(\u001b[0m\u001b[0mresponse\u001b[0m\u001b[0;34m.\u001b[0m\u001b[0mbody\u001b[0m\u001b[0;34m)\u001b[0m\u001b[0;34m\u001b[0m\u001b[0;34m\u001b[0m\u001b[0m\n",
      "\u001b[0m\n"
     ]
    },
    {
     "name": "stdin",
     "output_type": "stream",
     "text": [
      "ipdb>  u\n"
     ]
    },
    {
     "name": "stdout",
     "output_type": "stream",
     "text": [
      "> \u001b[0;32m/home/pwtail/projects/vdiserver/vdi/tasks/vm.py\u001b[0m(65)\u001b[0;36mrun\u001b[0;34m()\u001b[0m\n",
      "\u001b[0;32m     63 \u001b[0;31m        \u001b[0mparams\u001b[0m \u001b[0;34m=\u001b[0m \u001b[0;32mawait\u001b[0m \u001b[0mself\u001b[0m\u001b[0;34m.\u001b[0m\u001b[0mparams\u001b[0m\u001b[0;34m(\u001b[0m\u001b[0;34m)\u001b[0m\u001b[0;34m\u001b[0m\u001b[0;34m\u001b[0m\u001b[0m\n",
      "\u001b[0m\u001b[0;32m     64 \u001b[0;31m        \u001b[0mbody\u001b[0m \u001b[0;34m=\u001b[0m \u001b[0murllib\u001b[0m\u001b[0;34m.\u001b[0m\u001b[0mparse\u001b[0m\u001b[0;34m.\u001b[0m\u001b[0murlencode\u001b[0m\u001b[0;34m(\u001b[0m\u001b[0mparams\u001b[0m\u001b[0;34m)\u001b[0m\u001b[0;34m\u001b[0m\u001b[0;34m\u001b[0m\u001b[0m\n",
      "\u001b[0m\u001b[0;32m---> 65 \u001b[0;31m        \u001b[0mself\u001b[0m\u001b[0;34m.\u001b[0m\u001b[0mdomain\u001b[0m \u001b[0;34m=\u001b[0m \u001b[0;32mawait\u001b[0m \u001b[0mhttp_client\u001b[0m\u001b[0;34m.\u001b[0m\u001b[0mfetch\u001b[0m\u001b[0;34m(\u001b[0m\u001b[0mself\u001b[0m\u001b[0;34m.\u001b[0m\u001b[0murl\u001b[0m\u001b[0;34m,\u001b[0m \u001b[0mmethod\u001b[0m\u001b[0;34m=\u001b[0m\u001b[0;34m'POST'\u001b[0m\u001b[0;34m,\u001b[0m \u001b[0mheaders\u001b[0m\u001b[0;34m=\u001b[0m\u001b[0mheaders\u001b[0m\u001b[0;34m,\u001b[0m \u001b[0mbody\u001b[0m\u001b[0;34m=\u001b[0m\u001b[0mbody\u001b[0m\u001b[0;34m)\u001b[0m\u001b[0;34m\u001b[0m\u001b[0;34m\u001b[0m\u001b[0m\n",
      "\u001b[0m\u001b[0;32m     66 \u001b[0;31m        \u001b[0;32mawait\u001b[0m \u001b[0mws\u001b[0m\u001b[0;34m.\u001b[0m\u001b[0mwait_message\u001b[0m\u001b[0;34m(\u001b[0m\u001b[0mself\u001b[0m\u001b[0;34m.\u001b[0m\u001b[0mis_done\u001b[0m\u001b[0;34m)\u001b[0m\u001b[0;34m\u001b[0m\u001b[0;34m\u001b[0m\u001b[0m\n",
      "\u001b[0m\u001b[0;32m     67 \u001b[0;31m        \u001b[0;32mreturn\u001b[0m \u001b[0mself\u001b[0m\u001b[0;34m.\u001b[0m\u001b[0mdomain\u001b[0m\u001b[0;34m\u001b[0m\u001b[0;34m\u001b[0m\u001b[0m\n",
      "\u001b[0m\n"
     ]
    },
    {
     "name": "stdin",
     "output_type": "stream",
     "text": [
      "ipdb>  self\n"
     ]
    },
    {
     "name": "stdout",
     "output_type": "stream",
     "text": [
      "CreateDomain(vm_name='kvim')\n"
     ]
    },
    {
     "name": "stdin",
     "output_type": "stream",
     "text": [
      "ipdb>  self.url\n"
     ]
    },
    {
     "name": "stdout",
     "output_type": "stream",
     "text": [
      "'http://192.168.20.120/api/domains/'\n"
     ]
    },
    {
     "name": "stdin",
     "output_type": "stream",
     "text": [
      "ipdb>  c\n"
     ]
    }
   ],
   "source": [
    "debug"
   ]
  },
  {
   "cell_type": "code",
   "execution_count": null,
   "metadata": {},
   "outputs": [],
   "source": []
  }
 ],
 "metadata": {
  "kernelspec": {
   "display_name": "Python 3",
   "language": "python",
   "name": "python3"
  },
  "language_info": {
   "codemirror_mode": {
    "name": "ipython",
    "version": 3
   },
   "file_extension": ".py",
   "mimetype": "text/x-python",
   "name": "python",
   "nbconvert_exporter": "python",
   "pygments_lexer": "ipython3",
   "version": "3.7.3"
  }
 },
 "nbformat": 4,
 "nbformat_minor": 2
}
