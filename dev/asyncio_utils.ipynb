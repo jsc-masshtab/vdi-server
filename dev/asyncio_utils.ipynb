{
 "cells": [
  {
   "cell_type": "code",
   "execution_count": 1,
   "metadata": {},
   "outputs": [],
   "source": [
    "import asyncio\n",
    "\n",
    "loop = asyncio.events.get_event_loop()\n"
   ]
  },
  {
   "cell_type": "code",
   "execution_count": 1,
   "metadata": {},
   "outputs": [
    {
     "name": "stdout",
     "output_type": "stream",
     "text": [
      ".qcow2 image is downloaded.\n",
      "Node 192.168.20.121 is added.\n",
      "File upload finished.\n"
     ]
    }
   ],
   "source": [
    "from vdi.asyncio_utils import timeout\n",
    "\n",
    "from g_tasks import g, Task\n",
    "import asyncio\n",
    "\n",
    "\n",
    "\n",
    "async def f():\n",
    "    from prepare import main\n",
    "    await main()\n",
    "\n",
    "await f()"
   ]
  },
  {
   "cell_type": "code",
   "execution_count": 1,
   "metadata": {},
   "outputs": [],
   "source": [
    "from vdi.tasks import admin\n",
    "\n",
    "node = '192.168.20.121'\n",
    "tasks = {\n",
    "    'add_node': admin.AddNode(management_ip=node),\n",
    "    'download_image': admin.DownloadImage(target='image.qcow2'),\n",
    "}"
   ]
  },
  {
   "cell_type": "code",
   "execution_count": 2,
   "metadata": {},
   "outputs": [],
   "source": [
    "await tasks['download_image']"
   ]
  },
  {
   "cell_type": "code",
   "execution_count": 3,
   "metadata": {},
   "outputs": [],
   "source": [
    "await tasks['add_node']"
   ]
  },
  {
   "cell_type": "code",
   "execution_count": 2,
   "metadata": {},
   "outputs": [
    {
     "name": "stdout",
     "output_type": "stream",
     "text": [
      "('download_image', None)\n",
      "('download_image', None)\n"
     ]
    }
   ],
   "source": [
    "from vdi.tasks import admin\n",
    "from vdi.asyncio_utils import Wait\n",
    "node = '192.168.20.121'\n",
    "tasks = {\n",
    "    'add_node': admin.AddNode(management_ip=node),\n",
    "    'download_image': admin.DownloadImage(target='image.qcow2'),\n",
    "}\n",
    "async for x in Wait(**tasks):\n",
    "    print(x)"
   ]
  },
  {
   "cell_type": "code",
   "execution_count": 2,
   "metadata": {},
   "outputs": [],
   "source": [
    "await admin.AddNode(management_ip=node)"
   ]
  },
  {
   "cell_type": "code",
   "execution_count": 1,
   "metadata": {},
   "outputs": [],
   "source": [
    "class A:\n",
    "    async def __aiter__(self):\n",
    "        while self.results:\n",
    "            r = self.results.pop()\n",
    "            yield r\n",
    "\n",
    "    results = [1, 2]\n",
    "    \n",
    "        "
   ]
  },
  {
   "cell_type": "code",
   "execution_count": 2,
   "metadata": {},
   "outputs": [
    {
     "name": "stdout",
     "output_type": "stream",
     "text": [
      "2\n",
      "1\n"
     ]
    }
   ],
   "source": [
    "async for x in A():\n",
    "    print(x)"
   ]
  },
  {
   "cell_type": "code",
   "execution_count": null,
   "metadata": {},
   "outputs": [],
   "source": []
  }
 ],
 "metadata": {
  "kernelspec": {
   "display_name": "Python 3",
   "language": "python",
   "name": "python3"
  },
  "language_info": {
   "codemirror_mode": {
    "name": "ipython",
    "version": 3
   },
   "file_extension": ".py",
   "mimetype": "text/x-python",
   "name": "python",
   "nbconvert_exporter": "python",
   "pygments_lexer": "ipython3",
   "version": "3.7.2"
  }
 },
 "nbformat": 4,
 "nbformat_minor": 2
}
