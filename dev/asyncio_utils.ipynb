{
 "cells": [
  {
   "cell_type": "code",
   "execution_count": 1,
   "metadata": {},
   "outputs": [],
   "source": [
    "import asyncio\n",
    "\n",
    "loop = asyncio.events.get_event_loop()\n"
   ]
  },
  {
   "cell_type": "code",
   "execution_count": 1,
   "metadata": {},
   "outputs": [
    {
     "name": "stdout",
     "output_type": "stream",
     "text": [
      ".qcow2 image is downloaded.\n",
      "Node 192.168.20.121 is added.\n",
      "File upload finished.\n"
     ]
    }
   ],
   "source": [
    "from vdi.asyncio_utils import timeout\n",
    "\n",
    "from g_tasks import g, Task\n",
    "import asyncio\n",
    "\n",
    "\n",
    "\n",
    "\n",
    "from prepare import main\n",
    "await main()\n",
    "\n"
   ]
  },
  {
   "cell_type": "code",
   "execution_count": 1,
   "metadata": {},
   "outputs": [],
   "source": [
    "from vdi.tasks import admin\n",
    "\n",
    "node = '192.168.20.121'\n",
    "tasks = {\n",
    "    'add_node': admin.AddNode(management_ip=node),\n",
    "    'download_image': admin.DownloadImage(target='image.qcow2'),\n",
    "}"
   ]
  },
  {
   "cell_type": "code",
   "execution_count": null,
   "metadata": {},
   "outputs": [],
   "source": []
  }
 ],
 "metadata": {
  "kernelspec": {
   "display_name": "Python 3",
   "language": "python",
   "name": "python3"
  },
  "language_info": {
   "codemirror_mode": {
    "name": "ipython",
    "version": 3
   },
   "file_extension": ".py",
   "mimetype": "text/x-python",
   "name": "python",
   "nbconvert_exporter": "python",
   "pygments_lexer": "ipython3",
   "version": "3.7.2"
  }
 },
 "nbformat": 4,
 "nbformat_minor": 2
}
